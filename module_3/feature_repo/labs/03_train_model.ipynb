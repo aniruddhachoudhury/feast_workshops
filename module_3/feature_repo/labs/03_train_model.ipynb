{
 "cells": [
  {
   "cell_type": "code",
   "execution_count": 3,
   "id": "bea3fcf4-9476-4b93-a033-db9837d13d1d",
   "metadata": {},
   "outputs": [],
   "source": [
    "import sys\n",
    "sys.path.insert(0, [\"../\"])"
   ]
  },
  {
   "cell_type": "markdown",
   "id": "e240f774-41a9-4fbb-8eb5-9ad28f8e23db",
   "metadata": {},
   "source": [
    "### Import General Python libs and modules"
   ]
  },
  {
   "cell_type": "code",
   "execution_count": null,
   "id": "23fff6f0-ec91-4e31-82a6-db17994ebbb2",
   "metadata": {},
   "outputs": [],
   "source": [
    "import pandas as pd\n",
    "import time\n",
    "import numpy as np\n",
    "from pathlib import Path\n",
    "from sklearn.model_selection import train_test_split\n",
    "from sklearn.metrics import accuracy_score\n",
    "from sklearn.preprocessing import OrdinalEncoder\n",
    "from sklearn.metrics import precision_score\n",
    "import xgboost as xgb"
   ]
  },
  {
   "cell_type": "markdown",
   "id": "590f2ca5-b698-422f-bd80-4db35d4b586e",
   "metadata": {},
   "source": [
    "### Import Feast related modules and definitions from feast_repo directories"
   ]
  },
  {
   "cell_type": "code",
   "execution_count": null,
   "id": "088bda85-f750-4443-b762-c37d7737a187",
   "metadata": {},
   "outputs": [],
   "source": [
    "from feast import FeatureStore\n",
    "from queries.data_fetcher import DataFetcher"
   ]
  },
  {
   "cell_type": "code",
   "execution_count": null,
   "id": "aa7f0eec-1f67-42dc-a013-656971b2c056",
   "metadata": {},
   "outputs": [],
   "source": []
  },
  {
   "cell_type": "code",
   "execution_count": null,
   "id": "a9bc2c6e-9204-4bf2-8e06-95e97a7ce8ad",
   "metadata": {},
   "outputs": [],
   "source": []
  }
 ],
 "metadata": {
  "kernelspec": {
   "display_name": "Python 3 (ipykernel)",
   "language": "python",
   "name": "python3"
  },
  "language_info": {
   "codemirror_mode": {
    "name": "ipython",
    "version": 3
   },
   "file_extension": ".py",
   "mimetype": "text/x-python",
   "name": "python",
   "nbconvert_exporter": "python",
   "pygments_lexer": "ipython3",
   "version": "3.9.1"
  }
 },
 "nbformat": 4,
 "nbformat_minor": 5
}
