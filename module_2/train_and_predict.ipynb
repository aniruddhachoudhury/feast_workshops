{
 "cells": [
  {
   "cell_type": "markdown",
   "id": "cb324f74-8c08-43e8-9db1-71e5bcbb50e1",
   "metadata": {},
   "source": [
    "### Import General Python libs, defined classes, and modules¶"
   ]
  },
  {
   "cell_type": "code",
   "execution_count": 1,
   "id": "41d65f9d-2109-4c22-a705-ab3488ac5358",
   "metadata": {},
   "outputs": [],
   "source": [
    "import mlflow\n",
    "from pprint import pprint\n",
    "from train_model import DriverRankingTrainModel\n",
    "from predict_model import DriverRankingPredictModel"
   ]
  },
  {
   "cell_type": "markdown",
   "id": "5c850031-25ce-4130-ba70-8052484c7c2b",
   "metadata": {},
   "source": [
    "### Train the model\n",
    "\n",
    " * Use the `DriverRankingTrainingModel` class, which fetches training data from the Feast data source\n",
    " * Use `mlflow.autolog` to automatically log the parameters and computed metrics during training\n",
    " * Use `mflow` Fluent APIs to log the Feast training set"
   ]
  },
  {
   "cell_type": "markdown",
   "id": "022489be-d36b-43ce-bc6a-cb4b76d1130e",
   "metadata": {},
   "source": [
    "### Define ElasticNet tuning parameters and run some experiments"
   ]
  },
  {
   "cell_type": "code",
   "execution_count": 2,
   "id": "34790d80-92e0-40e2-a033-2f33dfe176c6",
   "metadata": {},
   "outputs": [
    {
     "name": "stderr",
     "output_type": "stream",
     "text": [
      "/usr/local/lib/python3.9/site-packages/ipykernel/ipkernel.py:283: DeprecationWarning: `should_run_async` will not call `transform_cell` automatically in the future. Please pass the result to `transformed_cell` argument and any exception that happen during thetransform in `preprocessing_exc_tuple` in IPython 7.17 and above.\n",
      "  and should_run_async(code)\n"
     ]
    }
   ],
   "source": [
    "params_list = [{\"alpha\": 0.5, \"l1_ratio\": 0.15},\n",
    "               {\"alpha\": 0.75, \"l1_ratio\": 0.25},\n",
    "               {\"alpha\": 1.0, \"l1_ratio\": 0.5}]\n",
    "\n",
    "# Change this to your location for the Feast feature repo\n",
    "REPO_PATH = \"/Users/jules/git-repos/feast_workshops/module_1/feature_repo\"\n",
    "# define your feature service name\n",
    "FEATURE_SERVICE_NAME = \"driver_ranking_fv_svc\""
   ]
  },
  {
   "cell_type": "markdown",
   "id": "b75bb9f6-2896-4328-b834-17dfc2eaaa62",
   "metadata": {},
   "source": [
    "### Iterate and experiment MLflow runs tunning parameters"
   ]
  },
  {
   "cell_type": "code",
   "execution_count": 3,
   "id": "43018728-1fed-429b-b996-c876cf3bf6d0",
   "metadata": {},
   "outputs": [
    {
     "name": "stderr",
     "output_type": "stream",
     "text": [
      "08/19/2021 03:54:36 PM INFO:Context impl SQLiteImpl.\n",
      "08/19/2021 03:54:36 PM INFO:Will assume non-transactional DDL.\n",
      "08/19/2021 03:54:36 PM INFO:Context impl SQLiteImpl.\n",
      "08/19/2021 03:54:36 PM INFO:Will assume non-transactional DDL.\n",
      "2021/08/19 15:54:36 WARNING mlflow.utils.autologging_utils: MLflow autologging encountered a warning: \"/usr/local/lib/python3.9/site-packages/mlflow/types/utils.py:139: DeprecationWarning: .. Warning:: ``mlflow.types.schema.column_types`` is deprecated since 1.14. This method will be removed in a near future release. Use ``mlflow.types.Schema.input_types`` instead.\"\n",
      "2021/08/19 15:54:36 WARNING mlflow.utils.autologging_utils: MLflow autologging encountered a warning: \"/usr/local/lib/python3.9/site-packages/mlflow/types/schema.py:366: DeprecationWarning: .. Warning:: ``mlflow.types.schema.columns`` is deprecated since 1.14. This method will be removed in a near future release. Use ``mlflow.types.Schema.inputs`` instead.\"\n",
      "2021/08/19 15:54:36 WARNING mlflow.utils.autologging_utils: MLflow autologging encountered a warning: \"/usr/local/lib/python3.9/site-packages/mlflow/models/signature.py:129: UserWarning: Hint: Inferred schema contains integer column(s). Integer columns in Python cannot represent missing values. If your input data contains missing values at inference time, it will be encoded as floats and will cause a schema enforcement error. The best way to avoid this problem is to infer the model schema based on a realistic data sample (training dataset) that includes missing values. Alternatively, you can declare integer columns as doubles (float64) whenever these columns may have missing values. See `Handling Integers With Missing Values <https://www.mlflow.org/docs/latest/models.html#handling-integers-with-missing-values>`_ for more details.\"\n",
      "08/19/2021 03:54:36 PM INFO:Context impl SQLiteImpl.\n",
      "08/19/2021 03:54:36 PM INFO:Will assume non-transactional DDL.\n",
      "08/19/2021 03:54:36 PM INFO:Context impl SQLiteImpl.\n",
      "08/19/2021 03:54:36 PM INFO:Will assume non-transactional DDL.\n",
      "08/19/2021 03:54:37 PM INFO:Context impl SQLiteImpl.\n",
      "08/19/2021 03:54:37 PM INFO:Will assume non-transactional DDL.\n",
      "08/19/2021 03:54:37 PM INFO:Context impl SQLiteImpl.\n",
      "08/19/2021 03:54:37 PM INFO:Will assume non-transactional DDL.\n"
     ]
    },
    {
     "name": "stdout",
     "output_type": "stream",
     "text": [
      "\"ElasticNet params: {'alpha': 0.5, 'l1_ratio': 0.15}\"\n",
      "Model run id: {'766530cf3a2f4e76a6c75bbff0485f2b'}\n"
     ]
    },
    {
     "name": "stderr",
     "output_type": "stream",
     "text": [
      "08/19/2021 03:54:38 PM INFO:Context impl SQLiteImpl.\n",
      "08/19/2021 03:54:38 PM INFO:Will assume non-transactional DDL.\n",
      "08/19/2021 03:54:38 PM INFO:Context impl SQLiteImpl.\n",
      "08/19/2021 03:54:38 PM INFO:Will assume non-transactional DDL.\n",
      "2021/08/19 15:54:38 WARNING mlflow.utils.autologging_utils: MLflow autologging encountered a warning: \"/usr/local/lib/python3.9/site-packages/mlflow/types/utils.py:139: DeprecationWarning: .. Warning:: ``mlflow.types.schema.column_types`` is deprecated since 1.14. This method will be removed in a near future release. Use ``mlflow.types.Schema.input_types`` instead.\"\n",
      "2021/08/19 15:54:38 WARNING mlflow.utils.autologging_utils: MLflow autologging encountered a warning: \"/usr/local/lib/python3.9/site-packages/mlflow/types/schema.py:366: DeprecationWarning: .. Warning:: ``mlflow.types.schema.columns`` is deprecated since 1.14. This method will be removed in a near future release. Use ``mlflow.types.Schema.inputs`` instead.\"\n",
      "2021/08/19 15:54:38 WARNING mlflow.utils.autologging_utils: MLflow autologging encountered a warning: \"/usr/local/lib/python3.9/site-packages/mlflow/models/signature.py:129: UserWarning: Hint: Inferred schema contains integer column(s). Integer columns in Python cannot represent missing values. If your input data contains missing values at inference time, it will be encoded as floats and will cause a schema enforcement error. The best way to avoid this problem is to infer the model schema based on a realistic data sample (training dataset) that includes missing values. Alternatively, you can declare integer columns as doubles (float64) whenever these columns may have missing values. See `Handling Integers With Missing Values <https://www.mlflow.org/docs/latest/models.html#handling-integers-with-missing-values>`_ for more details.\"\n",
      "08/19/2021 03:54:38 PM INFO:Context impl SQLiteImpl.\n",
      "08/19/2021 03:54:38 PM INFO:Will assume non-transactional DDL.\n",
      "08/19/2021 03:54:38 PM INFO:Context impl SQLiteImpl.\n",
      "08/19/2021 03:54:38 PM INFO:Will assume non-transactional DDL.\n",
      "08/19/2021 03:54:38 PM INFO:Context impl SQLiteImpl.\n",
      "08/19/2021 03:54:38 PM INFO:Will assume non-transactional DDL.\n",
      "08/19/2021 03:54:38 PM INFO:Context impl SQLiteImpl.\n",
      "08/19/2021 03:54:38 PM INFO:Will assume non-transactional DDL.\n"
     ]
    },
    {
     "name": "stdout",
     "output_type": "stream",
     "text": [
      "\"ElasticNet params: {'alpha': 0.75, 'l1_ratio': 0.25}\"\n",
      "Model run id: {'c1a711b7354c4f5597a1e482ccecd9a2'}\n"
     ]
    },
    {
     "name": "stderr",
     "output_type": "stream",
     "text": [
      "08/19/2021 03:54:40 PM INFO:Context impl SQLiteImpl.\n",
      "08/19/2021 03:54:40 PM INFO:Will assume non-transactional DDL.\n",
      "08/19/2021 03:54:40 PM INFO:Context impl SQLiteImpl.\n",
      "08/19/2021 03:54:40 PM INFO:Will assume non-transactional DDL.\n",
      "2021/08/19 15:54:40 WARNING mlflow.utils.autologging_utils: MLflow autologging encountered a warning: \"/usr/local/lib/python3.9/site-packages/mlflow/types/utils.py:139: DeprecationWarning: .. Warning:: ``mlflow.types.schema.column_types`` is deprecated since 1.14. This method will be removed in a near future release. Use ``mlflow.types.Schema.input_types`` instead.\"\n",
      "2021/08/19 15:54:40 WARNING mlflow.utils.autologging_utils: MLflow autologging encountered a warning: \"/usr/local/lib/python3.9/site-packages/mlflow/types/schema.py:366: DeprecationWarning: .. Warning:: ``mlflow.types.schema.columns`` is deprecated since 1.14. This method will be removed in a near future release. Use ``mlflow.types.Schema.inputs`` instead.\"\n",
      "2021/08/19 15:54:40 WARNING mlflow.utils.autologging_utils: MLflow autologging encountered a warning: \"/usr/local/lib/python3.9/site-packages/mlflow/models/signature.py:129: UserWarning: Hint: Inferred schema contains integer column(s). Integer columns in Python cannot represent missing values. If your input data contains missing values at inference time, it will be encoded as floats and will cause a schema enforcement error. The best way to avoid this problem is to infer the model schema based on a realistic data sample (training dataset) that includes missing values. Alternatively, you can declare integer columns as doubles (float64) whenever these columns may have missing values. See `Handling Integers With Missing Values <https://www.mlflow.org/docs/latest/models.html#handling-integers-with-missing-values>`_ for more details.\"\n",
      "08/19/2021 03:54:40 PM INFO:Context impl SQLiteImpl.\n",
      "08/19/2021 03:54:40 PM INFO:Will assume non-transactional DDL.\n",
      "08/19/2021 03:54:40 PM INFO:Context impl SQLiteImpl.\n",
      "08/19/2021 03:54:40 PM INFO:Will assume non-transactional DDL.\n",
      "08/19/2021 03:54:40 PM INFO:Context impl SQLiteImpl.\n",
      "08/19/2021 03:54:40 PM INFO:Will assume non-transactional DDL.\n",
      "08/19/2021 03:54:40 PM INFO:Context impl SQLiteImpl.\n",
      "08/19/2021 03:54:40 PM INFO:Will assume non-transactional DDL.\n"
     ]
    },
    {
     "name": "stdout",
     "output_type": "stream",
     "text": [
      "\"ElasticNet params: {'alpha': 1.0, 'l1_ratio': 0.5}\"\n",
      "Model run id: {'506ddb387c444ac0be1fd268e7f9ad7e'}\n"
     ]
    }
   ],
   "source": [
    "# iterate over tuning parameters\n",
    "for params in params_list:\n",
    "    model_cls = DriverRankingTrainModel(REPO_PATH, FEATURE_SERVICE_NAME, params)\n",
    "    run_id = model_cls.train_model()\n",
    "    pprint(f\"ElasticNet params: {params}\")\n",
    "    print(f\"Model run id: {run_id}\")"
   ]
  },
  {
   "cell_type": "markdown",
   "id": "6eac8e13-789e-4083-8e1e-8eb8ecedfb58",
   "metadata": {},
   "source": [
    "### Launch the MLflow ui, with Model Registry at the local SQLite database\n",
    " * Navigate and examine runs for the model\n",
    " * Register the best model with lowest RMSE with the Model Registry"
   ]
  },
  {
   "cell_type": "code",
   "execution_count": null,
   "id": "2b0ae189-cc55-431b-9889-9f007f1327a3",
   "metadata": {},
   "outputs": [
    {
     "name": "stderr",
     "output_type": "stream",
     "text": [
      "/usr/local/lib/python3.9/site-packages/ipykernel/ipkernel.py:283: DeprecationWarning: `should_run_async` will not call `transform_cell` automatically in the future. Please pass the result to `transformed_cell` argument and any exception that happen during thetransform in `preprocessing_exc_tuple` in IPython 7.17 and above.\n",
      "  and should_run_async(code)\n"
     ]
    },
    {
     "name": "stdout",
     "output_type": "stream",
     "text": [
      "[2021-08-05 10:16:20 -0700] [59015] [INFO] Starting gunicorn 20.1.0\n",
      "[2021-08-05 10:16:20 -0700] [59015] [INFO] Listening at: http://127.0.0.1:5000 (59015)\n",
      "[2021-08-05 10:16:20 -0700] [59015] [INFO] Using worker: sync\n",
      "[2021-08-05 10:16:20 -0700] [59016] [INFO] Booting worker with pid: 59016\n"
     ]
    }
   ],
   "source": [
    "!mlflow ui  --backend-store-uri sqlite:///mlruns.db"
   ]
  },
  {
   "cell_type": "markdown",
   "id": "8b8c1d9b-8b76-47e7-9f97-481da9383101",
   "metadata": {},
   "source": [
    "### CI/CD Intergration: Fetch the registered model from the Model Registry\n",
    " * Use the model URI (either by stage or version)\n",
    " * Make the predicion"
   ]
  },
  {
   "cell_type": "code",
   "execution_count": 4,
   "id": "505800f6-4dd1-40c9-b9e8-c955b21b05bb",
   "metadata": {},
   "outputs": [
    {
     "name": "stderr",
     "output_type": "stream",
     "text": [
      "/usr/local/lib/python3.9/site-packages/ipykernel/ipkernel.py:283: DeprecationWarning: `should_run_async` will not call `transform_cell` automatically in the future. Please pass the result to `transformed_cell` argument and any exception that happen during thetransform in `preprocessing_exc_tuple` in IPython 7.17 and above.\n",
      "  and should_run_async(code)\n",
      "08/19/2021 03:55:01 PM INFO:Context impl SQLiteImpl.\n",
      "08/19/2021 03:55:01 PM INFO:Will assume non-transactional DDL.\n"
     ]
    },
    {
     "name": "stdout",
     "output_type": "stream",
     "text": [
      " Best predicted driver for completed trips: 1001\n"
     ]
    }
   ],
   "source": [
    "mlflow.set_tracking_uri(\"sqlite:///mlruns.db\")\n",
    "REPO_PATH = \"/Users/jules/git-repos/feast_workshops/module_1/feature_repo\"\n",
    "model_uri = \"models:/sklearn_feast_integration/staging\"\n",
    "model = DriverRankingPredictModel(REPO_PATH, model_uri, FEATURE_SERVICE_NAME)\n",
    "drivers = [1001, 1002, 1003]\n",
    "best_driver = model(drivers)\n",
    "print(f\" Best predicted driver for completed trips: {best_driver}\")"
   ]
  },
  {
   "cell_type": "markdown",
   "id": "1724d4a7-f352-4448-8dec-f1686ea9124d",
   "metadata": {},
   "source": [
    "### CI/CD Intergration: Transition the model to production "
   ]
  },
  {
   "cell_type": "code",
   "execution_count": 3,
   "id": "e88e435d-4af0-49d5-956f-af2e2830d45f",
   "metadata": {},
   "outputs": [
    {
     "ename": "MlflowException",
     "evalue": "Model Registry features are not supported by the store with URI: 'file:///Users/jules/git-repos/feast_workshops/module_2/mlruns'. Stores with the following URI schemes are supported: ['databricks', 'http', 'https', 'postgresql', 'mysql', 'sqlite', 'mssql'].",
     "output_type": "error",
     "traceback": [
      "\u001b[0;31m---------------------------------------------------------------------------\u001b[0m",
      "\u001b[0;31mKeyError\u001b[0m                                  Traceback (most recent call last)",
      "\u001b[0;32m~/miniconda3/lib/python3.9/site-packages/mlflow/tracking/registry.py\u001b[0m in \u001b[0;36mget_store_builder\u001b[0;34m(self, store_uri)\u001b[0m\n\u001b[1;32m     75\u001b[0m         \u001b[0;32mtry\u001b[0m\u001b[0;34m:\u001b[0m\u001b[0;34m\u001b[0m\u001b[0;34m\u001b[0m\u001b[0m\n\u001b[0;32m---> 76\u001b[0;31m             \u001b[0mstore_builder\u001b[0m \u001b[0;34m=\u001b[0m \u001b[0mself\u001b[0m\u001b[0;34m.\u001b[0m\u001b[0m_registry\u001b[0m\u001b[0;34m[\u001b[0m\u001b[0mscheme\u001b[0m\u001b[0;34m]\u001b[0m\u001b[0;34m\u001b[0m\u001b[0;34m\u001b[0m\u001b[0m\n\u001b[0m\u001b[1;32m     77\u001b[0m         \u001b[0;32mexcept\u001b[0m \u001b[0mKeyError\u001b[0m\u001b[0;34m:\u001b[0m\u001b[0;34m\u001b[0m\u001b[0;34m\u001b[0m\u001b[0m\n",
      "\u001b[0;31mKeyError\u001b[0m: 'file'",
      "\nDuring handling of the above exception, another exception occurred:\n",
      "\u001b[0;31mUnsupportedModelRegistryStoreURIException\u001b[0m Traceback (most recent call last)",
      "\u001b[0;32m~/miniconda3/lib/python3.9/site-packages/mlflow/tracking/client.py\u001b[0m in \u001b[0;36m_get_registry_client\u001b[0;34m(self)\u001b[0m\n\u001b[1;32m     95\u001b[0m             \u001b[0;32mtry\u001b[0m\u001b[0;34m:\u001b[0m\u001b[0;34m\u001b[0m\u001b[0;34m\u001b[0m\u001b[0m\n\u001b[0;32m---> 96\u001b[0;31m                 \u001b[0mregistry_client\u001b[0m \u001b[0;34m=\u001b[0m \u001b[0mModelRegistryClient\u001b[0m\u001b[0;34m(\u001b[0m\u001b[0mself\u001b[0m\u001b[0;34m.\u001b[0m\u001b[0m_registry_uri\u001b[0m\u001b[0;34m)\u001b[0m\u001b[0;34m\u001b[0m\u001b[0;34m\u001b[0m\u001b[0m\n\u001b[0m\u001b[1;32m     97\u001b[0m                 \u001b[0;31m# Define an instance variable on this `MlflowClient` instance to reference the\u001b[0m\u001b[0;34m\u001b[0m\u001b[0;34m\u001b[0m\u001b[0;34m\u001b[0m\u001b[0m\n",
      "\u001b[0;32m~/miniconda3/lib/python3.9/site-packages/mlflow/tracking/_model_registry/client.py\u001b[0m in \u001b[0;36m__init__\u001b[0;34m(self, registry_uri)\u001b[0m\n\u001b[1;32m     32\u001b[0m         \u001b[0mself\u001b[0m\u001b[0;34m.\u001b[0m\u001b[0mregistry_uri\u001b[0m \u001b[0;34m=\u001b[0m \u001b[0mregistry_uri\u001b[0m\u001b[0;34m\u001b[0m\u001b[0;34m\u001b[0m\u001b[0m\n\u001b[0;32m---> 33\u001b[0;31m         \u001b[0mself\u001b[0m\u001b[0;34m.\u001b[0m\u001b[0mstore\u001b[0m \u001b[0;34m=\u001b[0m \u001b[0mutils\u001b[0m\u001b[0;34m.\u001b[0m\u001b[0m_get_store\u001b[0m\u001b[0;34m(\u001b[0m\u001b[0mself\u001b[0m\u001b[0;34m.\u001b[0m\u001b[0mregistry_uri\u001b[0m\u001b[0;34m)\u001b[0m\u001b[0;34m\u001b[0m\u001b[0;34m\u001b[0m\u001b[0m\n\u001b[0m\u001b[1;32m     34\u001b[0m \u001b[0;34m\u001b[0m\u001b[0m\n",
      "\u001b[0;32m~/miniconda3/lib/python3.9/site-packages/mlflow/tracking/_model_registry/utils.py\u001b[0m in \u001b[0;36m_get_store\u001b[0;34m(store_uri)\u001b[0m\n\u001b[1;32m    151\u001b[0m \u001b[0;32mdef\u001b[0m \u001b[0m_get_store\u001b[0m\u001b[0;34m(\u001b[0m\u001b[0mstore_uri\u001b[0m\u001b[0;34m=\u001b[0m\u001b[0;32mNone\u001b[0m\u001b[0;34m)\u001b[0m\u001b[0;34m:\u001b[0m\u001b[0;34m\u001b[0m\u001b[0;34m\u001b[0m\u001b[0m\n\u001b[0;32m--> 152\u001b[0;31m     \u001b[0;32mreturn\u001b[0m \u001b[0m_model_registry_store_registry\u001b[0m\u001b[0;34m.\u001b[0m\u001b[0mget_store\u001b[0m\u001b[0;34m(\u001b[0m\u001b[0mstore_uri\u001b[0m\u001b[0;34m)\u001b[0m\u001b[0;34m\u001b[0m\u001b[0;34m\u001b[0m\u001b[0m\n\u001b[0m",
      "\u001b[0;32m~/miniconda3/lib/python3.9/site-packages/mlflow/tracking/_model_registry/registry.py\u001b[0m in \u001b[0;36mget_store\u001b[0;34m(self, store_uri)\u001b[0m\n\u001b[1;32m     34\u001b[0m         \u001b[0mstore_uri\u001b[0m \u001b[0;34m=\u001b[0m \u001b[0mutils\u001b[0m\u001b[0;34m.\u001b[0m\u001b[0m_resolve_registry_uri\u001b[0m\u001b[0;34m(\u001b[0m\u001b[0mstore_uri\u001b[0m\u001b[0;34m)\u001b[0m\u001b[0;34m\u001b[0m\u001b[0;34m\u001b[0m\u001b[0m\n\u001b[0;32m---> 35\u001b[0;31m         \u001b[0mbuilder\u001b[0m \u001b[0;34m=\u001b[0m \u001b[0mself\u001b[0m\u001b[0;34m.\u001b[0m\u001b[0mget_store_builder\u001b[0m\u001b[0;34m(\u001b[0m\u001b[0mstore_uri\u001b[0m\u001b[0;34m)\u001b[0m\u001b[0;34m\u001b[0m\u001b[0;34m\u001b[0m\u001b[0m\n\u001b[0m\u001b[1;32m     36\u001b[0m         \u001b[0;32mreturn\u001b[0m \u001b[0mbuilder\u001b[0m\u001b[0;34m(\u001b[0m\u001b[0mstore_uri\u001b[0m\u001b[0;34m=\u001b[0m\u001b[0mstore_uri\u001b[0m\u001b[0;34m)\u001b[0m\u001b[0;34m\u001b[0m\u001b[0;34m\u001b[0m\u001b[0m\n",
      "\u001b[0;32m~/miniconda3/lib/python3.9/site-packages/mlflow/tracking/registry.py\u001b[0m in \u001b[0;36mget_store_builder\u001b[0;34m(self, store_uri)\u001b[0m\n\u001b[1;32m     77\u001b[0m         \u001b[0;32mexcept\u001b[0m \u001b[0mKeyError\u001b[0m\u001b[0;34m:\u001b[0m\u001b[0;34m\u001b[0m\u001b[0;34m\u001b[0m\u001b[0m\n\u001b[0;32m---> 78\u001b[0;31m             raise UnsupportedModelRegistryStoreURIException(\n\u001b[0m\u001b[1;32m     79\u001b[0m                 \u001b[0munsupported_uri\u001b[0m\u001b[0;34m=\u001b[0m\u001b[0mstore_uri\u001b[0m\u001b[0;34m,\u001b[0m \u001b[0msupported_uri_schemes\u001b[0m\u001b[0;34m=\u001b[0m\u001b[0mlist\u001b[0m\u001b[0;34m(\u001b[0m\u001b[0mself\u001b[0m\u001b[0;34m.\u001b[0m\u001b[0m_registry\u001b[0m\u001b[0;34m.\u001b[0m\u001b[0mkeys\u001b[0m\u001b[0;34m(\u001b[0m\u001b[0;34m)\u001b[0m\u001b[0;34m)\u001b[0m\u001b[0;34m\u001b[0m\u001b[0;34m\u001b[0m\u001b[0m\n",
      "\u001b[0;31mUnsupportedModelRegistryStoreURIException\u001b[0m:  Model registry functionality is unavailable; got unsupported URI 'file:///Users/jules/git-repos/feast_workshops/module_2/mlruns' for model registry data storage. Supported URI schemes are: ['databricks', 'http', 'https', 'postgresql', 'mysql', 'sqlite', 'mssql']. See https://www.mlflow.org/docs/latest/tracking.html#storage for how to run an MLflow server against one of the supported backend storage locations.",
      "\nDuring handling of the above exception, another exception occurred:\n",
      "\u001b[0;31mMlflowException\u001b[0m                           Traceback (most recent call last)",
      "\u001b[0;32m/var/folders/1r/mhh_l6510b9b9fffsfbz42gw0000gn/T/ipykernel_69289/3207919612.py\u001b[0m in \u001b[0;36m<module>\u001b[0;34m\u001b[0m\n\u001b[1;32m      2\u001b[0m \u001b[0;34m\u001b[0m\u001b[0m\n\u001b[1;32m      3\u001b[0m \u001b[0mclient\u001b[0m \u001b[0;34m=\u001b[0m \u001b[0mMlflowClient\u001b[0m\u001b[0;34m(\u001b[0m\u001b[0;34m)\u001b[0m\u001b[0;34m\u001b[0m\u001b[0;34m\u001b[0m\u001b[0m\n\u001b[0;32m----> 4\u001b[0;31m client.transition_model_version_stage(\n\u001b[0m\u001b[1;32m      5\u001b[0m     \u001b[0mname\u001b[0m\u001b[0;34m=\u001b[0m\u001b[0;34m\"sklearn_feast_integration\"\u001b[0m\u001b[0;34m,\u001b[0m\u001b[0;34m\u001b[0m\u001b[0;34m\u001b[0m\u001b[0m\n\u001b[1;32m      6\u001b[0m     \u001b[0mversion\u001b[0m\u001b[0;34m=\u001b[0m\u001b[0;36m1\u001b[0m\u001b[0;34m,\u001b[0m\u001b[0;34m\u001b[0m\u001b[0;34m\u001b[0m\u001b[0m\n",
      "\u001b[0;32m~/miniconda3/lib/python3.9/site-packages/mlflow/tracking/client.py\u001b[0m in \u001b[0;36mtransition_model_version_stage\u001b[0;34m(self, name, version, stage, archive_existing_versions)\u001b[0m\n\u001b[1;32m   2389\u001b[0m             \u001b[0mStage\u001b[0m\u001b[0;34m:\u001b[0m \u001b[0mStaging\u001b[0m\u001b[0;34m\u001b[0m\u001b[0;34m\u001b[0m\u001b[0m\n\u001b[1;32m   2390\u001b[0m         \"\"\"\n\u001b[0;32m-> 2391\u001b[0;31m         return self._get_registry_client().transition_model_version_stage(\n\u001b[0m\u001b[1;32m   2392\u001b[0m             \u001b[0mname\u001b[0m\u001b[0;34m,\u001b[0m \u001b[0mversion\u001b[0m\u001b[0;34m,\u001b[0m \u001b[0mstage\u001b[0m\u001b[0;34m,\u001b[0m \u001b[0marchive_existing_versions\u001b[0m\u001b[0;34m\u001b[0m\u001b[0;34m\u001b[0m\u001b[0m\n\u001b[1;32m   2393\u001b[0m         )\n",
      "\u001b[0;32m~/miniconda3/lib/python3.9/site-packages/mlflow/tracking/client.py\u001b[0m in \u001b[0;36m_get_registry_client\u001b[0;34m(self)\u001b[0m\n\u001b[1;32m    101\u001b[0m                 \u001b[0msetattr\u001b[0m\u001b[0;34m(\u001b[0m\u001b[0mself\u001b[0m\u001b[0;34m,\u001b[0m \u001b[0mregistry_client_attr\u001b[0m\u001b[0;34m,\u001b[0m \u001b[0mregistry_client\u001b[0m\u001b[0;34m)\u001b[0m\u001b[0;34m\u001b[0m\u001b[0;34m\u001b[0m\u001b[0m\n\u001b[1;32m    102\u001b[0m             \u001b[0;32mexcept\u001b[0m \u001b[0mUnsupportedModelRegistryStoreURIException\u001b[0m \u001b[0;32mas\u001b[0m \u001b[0mexc\u001b[0m\u001b[0;34m:\u001b[0m\u001b[0;34m\u001b[0m\u001b[0;34m\u001b[0m\u001b[0m\n\u001b[0;32m--> 103\u001b[0;31m                 raise MlflowException(\n\u001b[0m\u001b[1;32m    104\u001b[0m                     \u001b[0;34m\"Model Registry features are not supported by the store with URI:\"\u001b[0m\u001b[0;34m\u001b[0m\u001b[0;34m\u001b[0m\u001b[0m\n\u001b[1;32m    105\u001b[0m                     \u001b[0;34m\" '{uri}'. Stores with the following URI schemes are supported:\"\u001b[0m\u001b[0;34m\u001b[0m\u001b[0;34m\u001b[0m\u001b[0m\n",
      "\u001b[0;31mMlflowException\u001b[0m: Model Registry features are not supported by the store with URI: 'file:///Users/jules/git-repos/feast_workshops/module_2/mlruns'. Stores with the following URI schemes are supported: ['databricks', 'http', 'https', 'postgresql', 'mysql', 'sqlite', 'mssql']."
     ]
    }
   ],
   "source": [
    "client = MlflowClient()\n",
    "client.transition_model_version_stage(\n",
    "    name=\"sklearn_feast_integration\",\n",
    "    version=1,\n",
    "    stage=\"Production\"\n",
    ")"
   ]
  },
  {
   "cell_type": "code",
   "execution_count": null,
   "id": "be7c7f72-70fc-4313-b0cc-6aec5f760231",
   "metadata": {},
   "outputs": [],
   "source": []
  }
 ],
 "metadata": {
  "kernelspec": {
   "display_name": "Python 3 (ipykernel)",
   "language": "python",
   "name": "python3"
  },
  "language_info": {
   "codemirror_mode": {
    "name": "ipython",
    "version": 3
   },
   "file_extension": ".py",
   "mimetype": "text/x-python",
   "name": "python",
   "nbconvert_exporter": "python",
   "pygments_lexer": "ipython3",
   "version": "3.9.1"
  }
 },
 "nbformat": 4,
 "nbformat_minor": 5
}
