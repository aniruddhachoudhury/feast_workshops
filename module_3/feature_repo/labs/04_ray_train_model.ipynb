{
 "cells": [
  {
   "cell_type": "markdown",
   "id": "2f3cf39b-f14c-4727-be66-736485fbbe59",
   "metadata": {},
   "source": [
    "## A Credit Scoring Use Case for Loan Approval: Using Distributed Training with Ray and XGBoost and Feast\n",
    "![](images/feast_ray_xgboost.png)"
   ]
  },
  {
   "cell_type": "code",
   "execution_count": 4,
   "id": "d6369a05-35f7-4712-9568-d16536b832ec",
   "metadata": {},
   "outputs": [],
   "source": [
    "import sys\n",
    "sys.path.insert(0, \"../\")"
   ]
  },
  {
   "cell_type": "markdown",
   "id": "82b6b301-b734-42dd-9a45-e9162d84c5bb",
   "metadata": {},
   "source": [
    "### Import General Python libs and modules"
   ]
  },
  {
   "cell_type": "code",
   "execution_count": 5,
   "id": "71368eb6-519a-47dc-a471-21ae750b3bc2",
   "metadata": {},
   "outputs": [],
   "source": [
    "import pandas as pd\n",
    "import numpy as np\n",
    "from pathlib import Path\n",
    "\n",
    "from sklearn.model_selection import train_test_split\n",
    "from sklearn.metrics import accuracy_score\n",
    "from sklearn.preprocessing import OrdinalEncoder\n",
    "from sklearn.metrics import precision_score\n",
    "\n",
    "from xgboost_ray import RayXGBClassifier, RayParams\n",
    "import xgboost as xgb"
   ]
  },
  {
   "cell_type": "markdown",
   "id": "53f63be4-26c9-4e3d-9672-be6420454379",
   "metadata": {},
   "source": [
    "### Import Feast related modules and definitions from feast_repo directories and Ray modules"
   ]
  },
  {
   "cell_type": "code",
   "execution_count": 6,
   "id": "57dd1afe-4917-480d-a068-86d83130d5f9",
   "metadata": {},
   "outputs": [],
   "source": [
    "from feast import FeatureStore\n",
    "from utils.data_fetcher import DataFetcher\n",
    "from queries.ray_train_model import CreditRayXGBClassifier"
   ]
  },
  {
   "cell_type": "markdown",
   "id": "f51f10c5-e617-44b3-91ce-105f4f28e4ad",
   "metadata": {},
   "source": [
    "### Create instances of \n",
    " * feature store\n",
    " * data fetcher utility class\n",
    " * RayXGBoost classifier for distributed training"
   ]
  },
  {
   "cell_type": "code",
   "execution_count": 7,
   "id": "69cf2b84-00cd-4a36-840a-c6df66072fde",
   "metadata": {},
   "outputs": [],
   "source": [
    "# Change this path to your location\n",
    "REPO_PATH = Path(\"/Users/jules/git-repos/feast_workshops/module_3/feature_repo\")\n",
    "store = FeatureStore(repo_path=REPO_PATH)\n",
    "fetcher = DataFetcher(store, REPO_PATH)\n",
    "xgboost_cls = CreditRayXGBClassifier(store, fetcher)"
   ]
  },
  {
   "cell_type": "markdown",
   "id": "59f6cc60-fcf8-4202-95e7-1c54cddd0daf",
   "metadata": {},
   "source": [
    "### Train the RayXGBoost classifier for distributed training on localhost using a four cores or processes"
   ]
  },
  {
   "cell_type": "code",
   "execution_count": 8,
   "id": "c7785fe4-6c4c-4397-b660-08178d0d6adb",
   "metadata": {},
   "outputs": [
    {
     "name": "stderr",
     "output_type": "stream",
     "text": [
      "/Users/jules/miniconda3/lib/python3.9/site-packages/xgboost_ray/sklearn.py:751: UserWarning: The use of label encoder in XGBClassifier is deprecated and will be removed in a future release. To remove this warning, do the following: 1) Pass option use_label_encoder=False when constructing XGBClassifier object; and 2) Encode your labels (y) as integers starting with 0, i.e. 0, 1, 2, ..., [num_class - 1].\n",
      "  warnings.warn(label_encoder_deprecation_msg, UserWarning)\n",
      "2021-09-16 14:39:50,994\tINFO services.py:1263 -- View the Ray dashboard at \u001b[1m\u001b[32mhttp://127.0.0.1:8265\u001b[39m\u001b[22m\n",
      "2021-09-16 14:39:53,272\tINFO main.py:913 -- [RayXGBoost] Created 4 new actors (4 total actors). Waiting until actors are ready for training.\n",
      "2021-09-16 14:39:54,429\tINFO main.py:958 -- [RayXGBoost] Starting XGBoost training.\n",
      "09/16/2021 02:39:54 PM INFO:start listen on 10.0.0.233:9091\n",
      "09/16/2021 02:39:54 PM INFO:@tracker All of 4 nodes getting started\n",
      "\u001b[2m\u001b[36m(pid=95692)\u001b[0m [14:39:54] task [xgboost.ray]:140602412537456 got new rank 3\n",
      "\u001b[2m\u001b[36m(pid=95692)\u001b[0m [14:39:54] WARNING: /Users/travis/build/dmlc/xgboost/src/learner.cc:1095: Starting in XGBoost 1.3.0, the default evaluation metric used with the objective 'binary:logistic' was changed from 'error' to 'logloss'. Explicitly set eval_metric if you'd like to restore the old behavior.\n",
      "\u001b[2m\u001b[36m(pid=95686)\u001b[0m [14:39:54] task [xgboost.ray]:140699242239600 got new rank 2\n",
      "\u001b[2m\u001b[36m(pid=95686)\u001b[0m [14:39:54] WARNING: /Users/travis/build/dmlc/xgboost/src/learner.cc:1095: Starting in XGBoost 1.3.0, the default evaluation metric used with the objective 'binary:logistic' was changed from 'error' to 'logloss'. Explicitly set eval_metric if you'd like to restore the old behavior.\n",
      "\u001b[2m\u001b[36m(pid=95691)\u001b[0m [14:39:54] task [xgboost.ray]:140346576766576 got new rank 1\n",
      "\u001b[2m\u001b[36m(pid=95691)\u001b[0m [14:39:54] WARNING: /Users/travis/build/dmlc/xgboost/src/learner.cc:1095: Starting in XGBoost 1.3.0, the default evaluation metric used with the objective 'binary:logistic' was changed from 'error' to 'logloss'. Explicitly set eval_metric if you'd like to restore the old behavior.\n",
      "\u001b[2m\u001b[36m(pid=95694)\u001b[0m [14:39:54] task [xgboost.ray]:140570980423760 got new rank 0\n",
      "\u001b[2m\u001b[36m(pid=95694)\u001b[0m [14:39:54] WARNING: /Users/travis/build/dmlc/xgboost/src/learner.cc:1095: Starting in XGBoost 1.3.0, the default evaluation metric used with the objective 'binary:logistic' was changed from 'error' to 'logloss'. Explicitly set eval_metric if you'd like to restore the old behavior.\n",
      "09/16/2021 02:39:56 PM INFO:@tracker All nodes finishes job\n",
      "09/16/2021 02:39:56 PM INFO:@tracker 2.213315963745117 secs between node start and job finish\n",
      "2021-09-16 14:39:56,836\tINFO main.py:1436 -- [RayXGBoost] Finished XGBoost training on training data with total N=21,478 in 3.66 seconds (2.40 pure XGBoost training time).\n",
      "2021-09-16 14:39:56,864\tINFO main.py:1476 -- [RayXGBoost] Created 4 remote actors.\n",
      "2021-09-16 14:39:57,866\tINFO main.py:1493 -- [RayXGBoost] Starting XGBoost prediction.\n"
     ]
    },
    {
     "name": "stdout",
     "output_type": "stream",
     "text": [
      "[0 0 0 ... 0 0 0]\n"
     ]
    },
    {
     "name": "stderr",
     "output_type": "stream",
     "text": [
      "2021-09-16 14:39:58,625\tINFO main.py:913 -- [RayXGBoost] Created 4 new actors (4 total actors). Waiting until actors are ready for training.\n",
      "2021-09-16 14:40:00,068\tINFO main.py:958 -- [RayXGBoost] Starting XGBoost training.\n",
      "09/16/2021 02:40:00 PM INFO:start listen on 10.0.0.233:9091\n",
      "09/16/2021 02:40:00 PM INFO:@tracker All of 4 nodes getting started\n",
      "\u001b[2m\u001b[36m(pid=95697)\u001b[0m [14:40:00] task [xgboost.ray]:140450010514864 got new rank 0\n",
      "\u001b[2m\u001b[36m(pid=95697)\u001b[0m [14:40:00] WARNING: /Users/travis/build/dmlc/xgboost/src/learner.cc:1095: Starting in XGBoost 1.3.0, the default evaluation metric used with the objective 'binary:logistic' was changed from 'error' to 'logloss'. Explicitly set eval_metric if you'd like to restore the old behavior.\n",
      "\u001b[2m\u001b[36m(pid=95700)\u001b[0m [14:40:00] task [xgboost.ray]:140341476554304 got new rank 3\n",
      "\u001b[2m\u001b[36m(pid=95700)\u001b[0m [14:40:00] WARNING: /Users/travis/build/dmlc/xgboost/src/learner.cc:1095: Starting in XGBoost 1.3.0, the default evaluation metric used with the objective 'binary:logistic' was changed from 'error' to 'logloss'. Explicitly set eval_metric if you'd like to restore the old behavior.\n",
      "\u001b[2m\u001b[36m(pid=95699)\u001b[0m [14:40:00] task [xgboost.ray]:140538198849088 got new rank 2\n",
      "\u001b[2m\u001b[36m(pid=95699)\u001b[0m [14:40:00] WARNING: /Users/travis/build/dmlc/xgboost/src/learner.cc:1095: Starting in XGBoost 1.3.0, the default evaluation metric used with the objective 'binary:logistic' was changed from 'error' to 'logloss'. Explicitly set eval_metric if you'd like to restore the old behavior.\n",
      "\u001b[2m\u001b[36m(pid=95698)\u001b[0m [14:40:00] task [xgboost.ray]:140485157615168 got new rank 1\n",
      "\u001b[2m\u001b[36m(pid=95698)\u001b[0m [14:40:00] WARNING: /Users/travis/build/dmlc/xgboost/src/learner.cc:1095: Starting in XGBoost 1.3.0, the default evaluation metric used with the objective 'binary:logistic' was changed from 'error' to 'logloss'. Explicitly set eval_metric if you'd like to restore the old behavior.\n",
      "09/16/2021 02:40:02 PM INFO:@tracker All nodes finishes job\n",
      "09/16/2021 02:40:02 PM INFO:@tracker 2.141695022583008 secs between node start and job finish\n",
      "2021-09-16 14:40:02,365\tINFO main.py:1436 -- [RayXGBoost] Finished XGBoost training on training data with total N=21,478 in 4.44 seconds (2.29 pure XGBoost training time).\n",
      "2021-09-16 14:40:02,384\tINFO main.py:1476 -- [RayXGBoost] Created 4 remote actors.\n",
      "2021-09-16 14:40:03,885\tINFO main.py:1493 -- [RayXGBoost] Starting XGBoost prediction.\n"
     ]
    },
    {
     "name": "stdout",
     "output_type": "stream",
     "text": [
      "[0 0 0 ... 0 0 0]\n"
     ]
    },
    {
     "name": "stderr",
     "output_type": "stream",
     "text": [
      "2021-09-16 14:40:04,652\tINFO main.py:913 -- [RayXGBoost] Created 4 new actors (4 total actors). Waiting until actors are ready for training.\n",
      "2021-09-16 14:40:06,107\tINFO main.py:958 -- [RayXGBoost] Starting XGBoost training.\n",
      "09/16/2021 02:40:06 PM INFO:start listen on 10.0.0.233:9091\n",
      "09/16/2021 02:40:06 PM INFO:@tracker All of 4 nodes getting started\n",
      "\u001b[2m\u001b[36m(pid=95709)\u001b[0m [14:40:06] task [xgboost.ray]:140703470061024 got new rank 0\n",
      "\u001b[2m\u001b[36m(pid=95709)\u001b[0m [14:40:06] WARNING: /Users/travis/build/dmlc/xgboost/src/learner.cc:1095: Starting in XGBoost 1.3.0, the default evaluation metric used with the objective 'binary:logistic' was changed from 'error' to 'logloss'. Explicitly set eval_metric if you'd like to restore the old behavior.\n",
      "\u001b[2m\u001b[36m(pid=95711)\u001b[0m [14:40:06] task [xgboost.ray]:140478589453888 got new rank 2\n",
      "\u001b[2m\u001b[36m(pid=95711)\u001b[0m [14:40:06] WARNING: /Users/travis/build/dmlc/xgboost/src/learner.cc:1095: Starting in XGBoost 1.3.0, the default evaluation metric used with the objective 'binary:logistic' was changed from 'error' to 'logloss'. Explicitly set eval_metric if you'd like to restore the old behavior.\n",
      "\u001b[2m\u001b[36m(pid=95710)\u001b[0m [14:40:06] task [xgboost.ray]:140397479949936 got new rank 1\n",
      "\u001b[2m\u001b[36m(pid=95710)\u001b[0m [14:40:06] WARNING: /Users/travis/build/dmlc/xgboost/src/learner.cc:1095: Starting in XGBoost 1.3.0, the default evaluation metric used with the objective 'binary:logistic' was changed from 'error' to 'logloss'. Explicitly set eval_metric if you'd like to restore the old behavior.\n",
      "\u001b[2m\u001b[36m(pid=95712)\u001b[0m [14:40:06] task [xgboost.ray]:140328943908416 got new rank 3\n",
      "\u001b[2m\u001b[36m(pid=95712)\u001b[0m [14:40:06] WARNING: /Users/travis/build/dmlc/xgboost/src/learner.cc:1095: Starting in XGBoost 1.3.0, the default evaluation metric used with the objective 'binary:logistic' was changed from 'error' to 'logloss'. Explicitly set eval_metric if you'd like to restore the old behavior.\n",
      "09/16/2021 02:40:08 PM INFO:@tracker All nodes finishes job\n",
      "09/16/2021 02:40:08 PM INFO:@tracker 2.177302837371826 secs between node start and job finish\n",
      "2021-09-16 14:40:08,441\tINFO main.py:1436 -- [RayXGBoost] Finished XGBoost training on training data with total N=21,478 in 4.49 seconds (2.33 pure XGBoost training time).\n",
      "2021-09-16 14:40:08,460\tINFO main.py:1476 -- [RayXGBoost] Created 4 remote actors.\n",
      "2021-09-16 14:40:09,995\tINFO main.py:1493 -- [RayXGBoost] Starting XGBoost prediction.\n"
     ]
    },
    {
     "name": "stdout",
     "output_type": "stream",
     "text": [
      "[0 0 0 ... 0 0 0]\n"
     ]
    },
    {
     "name": "stderr",
     "output_type": "stream",
     "text": [
      "2021-09-16 14:40:10,738\tINFO main.py:913 -- [RayXGBoost] Created 4 new actors (4 total actors). Waiting until actors are ready for training.\n",
      "2021-09-16 14:40:12,185\tINFO main.py:958 -- [RayXGBoost] Starting XGBoost training.\n",
      "09/16/2021 02:40:12 PM INFO:start listen on 10.0.0.233:9091\n",
      "09/16/2021 02:40:12 PM INFO:@tracker All of 4 nodes getting started\n",
      "\u001b[2m\u001b[36m(pid=95720)\u001b[0m [14:40:12] task [xgboost.ray]:140459201164288 got new rank 0\n",
      "\u001b[2m\u001b[36m(pid=95720)\u001b[0m [14:40:12] WARNING: /Users/travis/build/dmlc/xgboost/src/learner.cc:1095: Starting in XGBoost 1.3.0, the default evaluation metric used with the objective 'binary:logistic' was changed from 'error' to 'logloss'. Explicitly set eval_metric if you'd like to restore the old behavior.\n",
      "\u001b[2m\u001b[36m(pid=95722)\u001b[0m [14:40:12] task [xgboost.ray]:140638207829568 got new rank 2\n",
      "\u001b[2m\u001b[36m(pid=95722)\u001b[0m [14:40:12] WARNING: /Users/travis/build/dmlc/xgboost/src/learner.cc:1095: Starting in XGBoost 1.3.0, the default evaluation metric used with the objective 'binary:logistic' was changed from 'error' to 'logloss'. Explicitly set eval_metric if you'd like to restore the old behavior.\n",
      "\u001b[2m\u001b[36m(pid=95721)\u001b[0m [14:40:12] task [xgboost.ray]:140455863612992 got new rank 1\n",
      "\u001b[2m\u001b[36m(pid=95721)\u001b[0m [14:40:12] WARNING: /Users/travis/build/dmlc/xgboost/src/learner.cc:1095: Starting in XGBoost 1.3.0, the default evaluation metric used with the objective 'binary:logistic' was changed from 'error' to 'logloss'. Explicitly set eval_metric if you'd like to restore the old behavior.\n",
      "\u001b[2m\u001b[36m(pid=95723)\u001b[0m [14:40:12] task [xgboost.ray]:140503193187904 got new rank 3\n",
      "\u001b[2m\u001b[36m(pid=95723)\u001b[0m [14:40:12] WARNING: /Users/travis/build/dmlc/xgboost/src/learner.cc:1095: Starting in XGBoost 1.3.0, the default evaluation metric used with the objective 'binary:logistic' was changed from 'error' to 'logloss'. Explicitly set eval_metric if you'd like to restore the old behavior.\n",
      "09/16/2021 02:40:14 PM INFO:@tracker All nodes finishes job\n",
      "09/16/2021 02:40:14 PM INFO:@tracker 2.272866725921631 secs between node start and job finish\n",
      "2021-09-16 14:40:14,598\tINFO main.py:1436 -- [RayXGBoost] Finished XGBoost training on training data with total N=21,478 in 4.54 seconds (2.41 pure XGBoost training time).\n",
      "2021-09-16 14:40:14,618\tINFO main.py:1476 -- [RayXGBoost] Created 4 remote actors.\n",
      "2021-09-16 14:40:16,132\tINFO main.py:1493 -- [RayXGBoost] Starting XGBoost prediction.\n"
     ]
    },
    {
     "name": "stdout",
     "output_type": "stream",
     "text": [
      "[0 0 0 ... 0 0 0]\n"
     ]
    },
    {
     "name": "stderr",
     "output_type": "stream",
     "text": [
      "2021-09-16 14:40:16,948\tINFO main.py:913 -- [RayXGBoost] Created 4 new actors (4 total actors). Waiting until actors are ready for training.\n",
      "2021-09-16 14:40:18,489\tINFO main.py:958 -- [RayXGBoost] Starting XGBoost training.\n",
      "09/16/2021 02:40:18 PM INFO:start listen on 10.0.0.233:9091\n",
      "09/16/2021 02:40:18 PM INFO:@tracker All of 4 nodes getting started\n",
      "\u001b[2m\u001b[36m(pid=95732)\u001b[0m [14:40:18] task [xgboost.ray]:140624626677216 got new rank 0\n",
      "\u001b[2m\u001b[36m(pid=95732)\u001b[0m [14:40:18] WARNING: /Users/travis/build/dmlc/xgboost/src/learner.cc:1095: Starting in XGBoost 1.3.0, the default evaluation metric used with the objective 'binary:logistic' was changed from 'error' to 'logloss'. Explicitly set eval_metric if you'd like to restore the old behavior.\n",
      "\u001b[2m\u001b[36m(pid=95733)\u001b[0m [14:40:18] task [xgboost.ray]:140506102928960 got new rank 1\n",
      "\u001b[2m\u001b[36m(pid=95733)\u001b[0m [14:40:18] WARNING: /Users/travis/build/dmlc/xgboost/src/learner.cc:1095: Starting in XGBoost 1.3.0, the default evaluation metric used with the objective 'binary:logistic' was changed from 'error' to 'logloss'. Explicitly set eval_metric if you'd like to restore the old behavior.\n",
      "\u001b[2m\u001b[36m(pid=95735)\u001b[0m [14:40:18] task [xgboost.ray]:140395156305472 got new rank 3\n",
      "\u001b[2m\u001b[36m(pid=95735)\u001b[0m [14:40:18] WARNING: /Users/travis/build/dmlc/xgboost/src/learner.cc:1095: Starting in XGBoost 1.3.0, the default evaluation metric used with the objective 'binary:logistic' was changed from 'error' to 'logloss'. Explicitly set eval_metric if you'd like to restore the old behavior.\n",
      "\u001b[2m\u001b[36m(pid=95734)\u001b[0m [14:40:18] task [xgboost.ray]:140640976074352 got new rank 2\n",
      "\u001b[2m\u001b[36m(pid=95734)\u001b[0m [14:40:18] WARNING: /Users/travis/build/dmlc/xgboost/src/learner.cc:1095: Starting in XGBoost 1.3.0, the default evaluation metric used with the objective 'binary:logistic' was changed from 'error' to 'logloss'. Explicitly set eval_metric if you'd like to restore the old behavior.\n",
      "09/16/2021 02:40:21 PM INFO:@tracker All nodes finishes job\n",
      "09/16/2021 02:40:21 PM INFO:@tracker 2.6979849338531494 secs between node start and job finish\n",
      "2021-09-16 14:40:21,336\tINFO main.py:1436 -- [RayXGBoost] Finished XGBoost training on training data with total N=21,478 in 5.14 seconds (2.84 pure XGBoost training time).\n",
      "2021-09-16 14:40:21,355\tINFO main.py:1476 -- [RayXGBoost] Created 4 remote actors.\n",
      "2021-09-16 14:40:22,866\tINFO main.py:1493 -- [RayXGBoost] Starting XGBoost prediction.\n"
     ]
    },
    {
     "name": "stdout",
     "output_type": "stream",
     "text": [
      "[0 0 0 ... 0 0 0]\n"
     ]
    },
    {
     "name": "stderr",
     "output_type": "stream",
     "text": [
      "2021-09-16 14:40:23,628\tINFO main.py:913 -- [RayXGBoost] Created 4 new actors (4 total actors). Waiting until actors are ready for training.\n",
      "2021-09-16 14:40:25,083\tINFO main.py:958 -- [RayXGBoost] Starting XGBoost training.\n",
      "09/16/2021 02:40:25 PM INFO:start listen on 10.0.0.233:9091\n",
      "09/16/2021 02:40:25 PM INFO:@tracker All of 4 nodes getting started\n",
      "\u001b[2m\u001b[36m(pid=95744)\u001b[0m [14:40:25] task [xgboost.ray]:140236702746080 got new rank 0\n",
      "\u001b[2m\u001b[36m(pid=95744)\u001b[0m [14:40:25] WARNING: /Users/travis/build/dmlc/xgboost/src/learner.cc:1095: Starting in XGBoost 1.3.0, the default evaluation metric used with the objective 'binary:logistic' was changed from 'error' to 'logloss'. Explicitly set eval_metric if you'd like to restore the old behavior.\n",
      "\u001b[2m\u001b[36m(pid=95746)\u001b[0m [14:40:25] task [xgboost.ray]:140617175451200 got new rank 2\n",
      "\u001b[2m\u001b[36m(pid=95746)\u001b[0m [14:40:25] WARNING: /Users/travis/build/dmlc/xgboost/src/learner.cc:1095: Starting in XGBoost 1.3.0, the default evaluation metric used with the objective 'binary:logistic' was changed from 'error' to 'logloss'. Explicitly set eval_metric if you'd like to restore the old behavior.\n",
      "\u001b[2m\u001b[36m(pid=95745)\u001b[0m [14:40:25] task [xgboost.ray]:140288754091584 got new rank 1\n",
      "\u001b[2m\u001b[36m(pid=95745)\u001b[0m [14:40:25] WARNING: /Users/travis/build/dmlc/xgboost/src/learner.cc:1095: Starting in XGBoost 1.3.0, the default evaluation metric used with the objective 'binary:logistic' was changed from 'error' to 'logloss'. Explicitly set eval_metric if you'd like to restore the old behavior.\n",
      "\u001b[2m\u001b[36m(pid=95747)\u001b[0m [14:40:25] task [xgboost.ray]:140581826889280 got new rank 3\n",
      "\u001b[2m\u001b[36m(pid=95747)\u001b[0m [14:40:25] WARNING: /Users/travis/build/dmlc/xgboost/src/learner.cc:1095: Starting in XGBoost 1.3.0, the default evaluation metric used with the objective 'binary:logistic' was changed from 'error' to 'logloss'. Explicitly set eval_metric if you'd like to restore the old behavior.\n",
      "09/16/2021 02:40:27 PM INFO:@tracker All nodes finishes job\n",
      "09/16/2021 02:40:27 PM INFO:@tracker 2.3119771480560303 secs between node start and job finish\n",
      "2021-09-16 14:40:27,589\tINFO main.py:1436 -- [RayXGBoost] Finished XGBoost training on training data with total N=21,478 in 4.66 seconds (2.50 pure XGBoost training time).\n",
      "2021-09-16 14:40:27,610\tINFO main.py:1476 -- [RayXGBoost] Created 4 remote actors.\n",
      "2021-09-16 14:40:29,202\tINFO main.py:1493 -- [RayXGBoost] Starting XGBoost prediction.\n"
     ]
    },
    {
     "name": "stdout",
     "output_type": "stream",
     "text": [
      "[0 0 0 ... 0 0 0]\n"
     ]
    },
    {
     "name": "stderr",
     "output_type": "stream",
     "text": [
      "2021-09-16 14:40:30,013\tINFO main.py:913 -- [RayXGBoost] Created 4 new actors (4 total actors). Waiting until actors are ready for training.\n",
      "2021-09-16 14:40:31,569\tINFO main.py:958 -- [RayXGBoost] Starting XGBoost training.\n",
      "09/16/2021 02:40:31 PM INFO:start listen on 10.0.0.233:9091\n",
      "09/16/2021 02:40:31 PM INFO:@tracker All of 4 nodes getting started\n",
      "\u001b[2m\u001b[36m(pid=95755)\u001b[0m [14:40:31] task [xgboost.ray]:140453028168992 got new rank 0\n",
      "\u001b[2m\u001b[36m(pid=95756)\u001b[0m [14:40:31] task [xgboost.ray]:140542006224496 got new rank 1\n",
      "\u001b[2m\u001b[36m(pid=95757)\u001b[0m [14:40:31] task [xgboost.ray]:140298217551424 got new rank 2\n",
      "\u001b[2m\u001b[36m(pid=95758)\u001b[0m [14:40:31] task [xgboost.ray]:140309609281088 got new rank 3\n",
      "\u001b[2m\u001b[36m(pid=95755)\u001b[0m [14:40:31] WARNING: /Users/travis/build/dmlc/xgboost/src/learner.cc:1095: Starting in XGBoost 1.3.0, the default evaluation metric used with the objective 'binary:logistic' was changed from 'error' to 'logloss'. Explicitly set eval_metric if you'd like to restore the old behavior.\n",
      "\u001b[2m\u001b[36m(pid=95756)\u001b[0m [14:40:31] WARNING: /Users/travis/build/dmlc/xgboost/src/learner.cc:1095: Starting in XGBoost 1.3.0, the default evaluation metric used with the objective 'binary:logistic' was changed from 'error' to 'logloss'. Explicitly set eval_metric if you'd like to restore the old behavior.\n",
      "\u001b[2m\u001b[36m(pid=95757)\u001b[0m [14:40:31] WARNING: /Users/travis/build/dmlc/xgboost/src/learner.cc:1095: Starting in XGBoost 1.3.0, the default evaluation metric used with the objective 'binary:logistic' was changed from 'error' to 'logloss'. Explicitly set eval_metric if you'd like to restore the old behavior.\n",
      "\u001b[2m\u001b[36m(pid=95758)\u001b[0m [14:40:31] WARNING: /Users/travis/build/dmlc/xgboost/src/learner.cc:1095: Starting in XGBoost 1.3.0, the default evaluation metric used with the objective 'binary:logistic' was changed from 'error' to 'logloss'. Explicitly set eval_metric if you'd like to restore the old behavior.\n",
      "09/16/2021 02:40:33 PM INFO:@tracker All nodes finishes job\n",
      "09/16/2021 02:40:33 PM INFO:@tracker 2.366452932357788 secs between node start and job finish\n",
      "2021-09-16 14:40:34,091\tINFO main.py:1436 -- [RayXGBoost] Finished XGBoost training on training data with total N=21,478 in 4.82 seconds (2.52 pure XGBoost training time).\n",
      "2021-09-16 14:40:34,111\tINFO main.py:1476 -- [RayXGBoost] Created 4 remote actors.\n",
      "2021-09-16 14:40:35,707\tINFO main.py:1493 -- [RayXGBoost] Starting XGBoost prediction.\n"
     ]
    },
    {
     "name": "stdout",
     "output_type": "stream",
     "text": [
      "[0 0 0 ... 0 0 0]\n"
     ]
    },
    {
     "name": "stderr",
     "output_type": "stream",
     "text": [
      "2021-09-16 14:40:36,495\tINFO main.py:913 -- [RayXGBoost] Created 4 new actors (4 total actors). Waiting until actors are ready for training.\n",
      "2021-09-16 14:40:37,947\tINFO main.py:958 -- [RayXGBoost] Starting XGBoost training.\n",
      "09/16/2021 02:40:37 PM INFO:start listen on 10.0.0.233:9091\n",
      "09/16/2021 02:40:37 PM INFO:@tracker All of 4 nodes getting started\n",
      "\u001b[2m\u001b[36m(pid=95767)\u001b[0m [14:40:37] task [xgboost.ray]:140335899231664 got new rank 0\n",
      "\u001b[2m\u001b[36m(pid=95767)\u001b[0m [14:40:37] WARNING: /Users/travis/build/dmlc/xgboost/src/learner.cc:1095: Starting in XGBoost 1.3.0, the default evaluation metric used with the objective 'binary:logistic' was changed from 'error' to 'logloss'. Explicitly set eval_metric if you'd like to restore the old behavior.\n",
      "\u001b[2m\u001b[36m(pid=95768)\u001b[0m [14:40:37] task [xgboost.ray]:140657719731968 got new rank 1\n",
      "\u001b[2m\u001b[36m(pid=95768)\u001b[0m [14:40:37] WARNING: /Users/travis/build/dmlc/xgboost/src/learner.cc:1095: Starting in XGBoost 1.3.0, the default evaluation metric used with the objective 'binary:logistic' was changed from 'error' to 'logloss'. Explicitly set eval_metric if you'd like to restore the old behavior.\n",
      "\u001b[2m\u001b[36m(pid=95770)\u001b[0m [14:40:37] task [xgboost.ray]:140241468671552 got new rank 3\n",
      "\u001b[2m\u001b[36m(pid=95770)\u001b[0m [14:40:37] WARNING: /Users/travis/build/dmlc/xgboost/src/learner.cc:1095: Starting in XGBoost 1.3.0, the default evaluation metric used with the objective 'binary:logistic' was changed from 'error' to 'logloss'. Explicitly set eval_metric if you'd like to restore the old behavior.\n",
      "\u001b[2m\u001b[36m(pid=95769)\u001b[0m [14:40:37] task [xgboost.ray]:140271188408064 got new rank 2\n",
      "\u001b[2m\u001b[36m(pid=95769)\u001b[0m [14:40:37] WARNING: /Users/travis/build/dmlc/xgboost/src/learner.cc:1095: Starting in XGBoost 1.3.0, the default evaluation metric used with the objective 'binary:logistic' was changed from 'error' to 'logloss'. Explicitly set eval_metric if you'd like to restore the old behavior.\n",
      "09/16/2021 02:40:40 PM INFO:@tracker All nodes finishes job\n",
      "09/16/2021 02:40:40 PM INFO:@tracker 2.263795852661133 secs between node start and job finish\n",
      "2021-09-16 14:40:40,353\tINFO main.py:1436 -- [RayXGBoost] Finished XGBoost training on training data with total N=21,478 in 4.58 seconds (2.40 pure XGBoost training time).\n",
      "2021-09-16 14:40:40,373\tINFO main.py:1476 -- [RayXGBoost] Created 4 remote actors.\n",
      "2021-09-16 14:40:41,867\tINFO main.py:1493 -- [RayXGBoost] Starting XGBoost prediction.\n"
     ]
    },
    {
     "name": "stdout",
     "output_type": "stream",
     "text": [
      "[0 0 0 ... 0 0 0]\n",
      "6.29 s ± 236 ms per loop (mean ± std. dev. of 7 runs, 1 loop each)\n"
     ]
    }
   ],
   "source": [
    "%timeit xgboost_cls.train()"
   ]
  },
  {
   "cell_type": "markdown",
   "id": "080ce609-2def-4b27-be36-7cde30da2522",
   "metadata": {},
   "source": [
    "### Define loan requests"
   ]
  },
  {
   "cell_type": "code",
   "execution_count": 9,
   "id": "92e75800-8e23-43cc-bb69-8497591aed3b",
   "metadata": {},
   "outputs": [],
   "source": [
    "loan_requests = [\n",
    "    {\n",
    "        \"zipcode\": [76104],\n",
    "        \"person_age\": [22],\n",
    "        \"person_income\": [59000],\n",
    "        \"person_home_ownership\": [\"RENT\"],\n",
    "        \"person_emp_length\": [123.0],\n",
    "        \"loan_intent\": [\"PERSONAL\"],\n",
    "        \"loan_amnt\": [35000],\n",
    "        \"loan_int_rate\": [16.02],\n",
    "        \"dob_ssn\": [\"19530219_5179\"]\n",
    "    },\n",
    "    {\n",
    "        \"zipcode\": [69033],\n",
    "        \"person_age\": [66],\n",
    "        \"person_income\": [42000],\n",
    "        \"person_home_ownership\": [\"RENT\"],\n",
    "        \"person_emp_length\": [2.0],\n",
    "        \"loan_intent\": [\"MEDICAL\"],\n",
    "        \"loan_amnt\": [6475],\n",
    "        \"loan_int_rate\": [9.99],\n",
    "        \"dob_ssn\": [\"19960703_3449\"]\n",
    "    }\n",
    "]"
   ]
  },
  {
   "cell_type": "markdown",
   "id": "a09c022d-1366-400b-8bb6-0af806bb2d9a",
   "metadata": {},
   "source": [
    "### Predict the loan requests"
   ]
  },
  {
   "cell_type": "code",
   "execution_count": 10,
   "id": "be4e0d69-6aa1-4714-97bf-162107cc5051",
   "metadata": {},
   "outputs": [
    {
     "name": "stderr",
     "output_type": "stream",
     "text": [
      "/Users/jules/miniconda3/lib/python3.9/site-packages/xgboost_ray/sklearn.py:294: UserWarning: `ray_params` is not `None` and will override the `n_jobs` attribute.\n",
      "  warnings.warn(\"`ray_params` is not `None` and will override \"\n",
      "/Users/jules/miniconda3/lib/python3.9/site-packages/xgboost_ray/main.py:364: UserWarning: `num_actors` in `ray_params` is smaller than 2 (1). XGBoost will NOT be distributed!\n",
      "  warnings.warn(\n",
      "2021-09-16 14:40:50,269\tINFO main.py:1476 -- [RayXGBoost] Created 1 remote actors.\n",
      "2021-09-16 14:40:51,600\tINFO main.py:1493 -- [RayXGBoost] Starting XGBoost prediction.\n"
     ]
    },
    {
     "name": "stdout",
     "output_type": "stream",
     "text": [
      "Loan for 76104 code approved: status_code=1\n"
     ]
    },
    {
     "name": "stderr",
     "output_type": "stream",
     "text": [
      "/Users/jules/miniconda3/lib/python3.9/site-packages/xgboost_ray/sklearn.py:294: UserWarning: `ray_params` is not `None` and will override the `n_jobs` attribute.\n",
      "  warnings.warn(\"`ray_params` is not `None` and will override \"\n",
      "/Users/jules/miniconda3/lib/python3.9/site-packages/xgboost_ray/main.py:364: UserWarning: `num_actors` in `ray_params` is smaller than 2 (1). XGBoost will NOT be distributed!\n",
      "  warnings.warn(\n",
      "2021-09-16 14:40:51,914\tINFO main.py:1476 -- [RayXGBoost] Created 1 remote actors.\n",
      "2021-09-16 14:40:53,244\tINFO main.py:1493 -- [RayXGBoost] Starting XGBoost prediction.\n"
     ]
    },
    {
     "name": "stdout",
     "output_type": "stream",
     "text": [
      "Loan for 69033 code rejected: status_code=0\n"
     ]
    }
   ],
   "source": [
    "for loan_request in loan_requests:\n",
    "    result = round(xgboost_cls.predict(loan_request))\n",
    "    loan_status = \"approved\" if result == 1 else \"rejected\"\n",
    "    print(f\"Loan for {loan_request['zipcode'][0]} code {loan_status}: status_code={result}\")"
   ]
  }
 ],
 "metadata": {
  "kernelspec": {
   "display_name": "Python 3 (ipykernel)",
   "language": "python",
   "name": "python3"
  },
  "language_info": {
   "codemirror_mode": {
    "name": "ipython",
    "version": 3
   },
   "file_extension": ".py",
   "mimetype": "text/x-python",
   "name": "python",
   "nbconvert_exporter": "python",
   "pygments_lexer": "ipython3",
   "version": "3.9.1"
  }
 },
 "nbformat": 4,
 "nbformat_minor": 5
}
