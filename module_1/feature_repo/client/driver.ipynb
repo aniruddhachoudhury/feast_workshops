{
 "cells": [
  {
   "cell_type": "markdown",
   "id": "0556dbef-449c-45cc-a776-56b880cfceff",
   "metadata": {},
   "source": [
    "### Import General Python libs and modules"
   ]
  },
  {
   "cell_type": "code",
   "execution_count": 2,
   "id": "b0e8be22-20e1-4772-9e79-7707ba52ae92",
   "metadata": {},
   "outputs": [],
   "source": [
    "import sys\n",
    "sys.path.insert(0, \"../\")\n",
    "\n",
    "from datetime import datetime, timedelta\n",
    "from pprint import pprint\n",
    "from pathlib import Path\n",
    "import pandas as pd"
   ]
  },
  {
   "cell_type": "markdown",
   "id": "c0a89bed-98b2-47cf-8e69-479ce698c1a3",
   "metadata": {},
   "source": [
    "### Import feast related modules and definitions from local directories"
   ]
  },
  {
   "cell_type": "code",
   "execution_count": 3,
   "id": "7dc596b0-2edf-4468-9e1d-e064b21b4dc2",
   "metadata": {},
   "outputs": [],
   "source": [
    "from feast import FeatureStore\n",
    "from entities.entity import driver\n",
    "from features.feature_views import driver_hourly_stats_view\n",
    "from train import get_training_data\n",
    "from fvector import get_feature_vector"
   ]
  },
  {
   "cell_type": "code",
   "execution_count": 4,
   "id": "8868da9a-417a-4390-9bb7-282b2eced489",
   "metadata": {},
   "outputs": [
    {
     "name": "stderr",
     "output_type": "stream",
     "text": [
      "/usr/local/lib/python3.9/site-packages/ipykernel/ipkernel.py:283: DeprecationWarning: `should_run_async` will not call `transform_cell` automatically in the future. Please pass the result to `transformed_cell` argument and any exception that happen during thetransform in `preprocessing_exc_tuple` in IPython 7.17 and above.\n",
      "  and should_run_async(code)\n"
     ]
    }
   ],
   "source": [
    "FEAST_REPO = \"/Users/jules/git-repos/feast_workshops/module_1/feature_repo/\""
   ]
  },
  {
   "cell_type": "markdown",
   "id": "a9d740cb-a03f-4ab6-8a27-a81abcf81643",
   "metadata": {},
   "source": [
    "#### Define repo path and create a Feature Store instance"
   ]
  },
  {
   "cell_type": "code",
   "execution_count": 7,
   "id": "6ae052b9-7198-4b73-be68-16319e077c2f",
   "metadata": {},
   "outputs": [],
   "source": [
    "FEAST_REPO = \"/Users/jules/git-repos/feast_workshops/module_1/feature_repo/\"\n",
    "repo_path = Path(FEAST_REPO)\n",
    "fs = FeatureStore(repo_path=repo_path)"
   ]
  },
  {
   "cell_type": "markdown",
   "id": "71ad5468-344a-4d0e-b1a1-18ccc118d906",
   "metadata": {},
   "source": [
    "#### Register the data source, entity and features in the FeatureView with the Feast Registry"
   ]
  },
  {
   "cell_type": "code",
   "execution_count": 8,
   "id": "3ead9b3e-3e77-47c7-ac0b-3a7025b1da98",
   "metadata": {},
   "outputs": [],
   "source": [
    "fs.apply([driver, driver_hourly_stats_view])"
   ]
  },
  {
   "cell_type": "markdown",
   "id": "59dfd3cb-6f14-4896-a58f-f38d8a3e56c5",
   "metadata": {},
   "source": [
    "#### Get the training historical data"
   ]
  },
  {
   "cell_type": "code",
   "execution_count": 11,
   "id": "a2a56762-8704-4938-a967-d500c2507182",
   "metadata": {},
   "outputs": [
    {
     "data": {
      "text/html": [
       "<div>\n",
       "<style scoped>\n",
       "    .dataframe tbody tr th:only-of-type {\n",
       "        vertical-align: middle;\n",
       "    }\n",
       "\n",
       "    .dataframe tbody tr th {\n",
       "        vertical-align: top;\n",
       "    }\n",
       "\n",
       "    .dataframe thead th {\n",
       "        text-align: right;\n",
       "    }\n",
       "</style>\n",
       "<table border=\"1\" class=\"dataframe\">\n",
       "  <thead>\n",
       "    <tr style=\"text-align: right;\">\n",
       "      <th></th>\n",
       "      <th>event_timestamp</th>\n",
       "      <th>driver_id</th>\n",
       "      <th>driver_hourly_stats__conv_rate</th>\n",
       "      <th>driver_hourly_stats__acc_rate</th>\n",
       "      <th>driver_hourly_stats__avg_daily_trips</th>\n",
       "    </tr>\n",
       "  </thead>\n",
       "  <tbody>\n",
       "    <tr>\n",
       "      <th>0</th>\n",
       "      <td>2021-04-12 08:12:10+00:00</td>\n",
       "      <td>1002</td>\n",
       "      <td>0.312347</td>\n",
       "      <td>0.481786</td>\n",
       "      <td>810</td>\n",
       "    </tr>\n",
       "    <tr>\n",
       "      <th>1</th>\n",
       "      <td>2021-04-12 10:59:42+00:00</td>\n",
       "      <td>1001</td>\n",
       "      <td>0.175219</td>\n",
       "      <td>0.761434</td>\n",
       "      <td>385</td>\n",
       "    </tr>\n",
       "    <tr>\n",
       "      <th>2</th>\n",
       "      <td>2021-04-12 15:01:12+00:00</td>\n",
       "      <td>1004</td>\n",
       "      <td>0.094609</td>\n",
       "      <td>0.151163</td>\n",
       "      <td>166</td>\n",
       "    </tr>\n",
       "    <tr>\n",
       "      <th>3</th>\n",
       "      <td>2021-04-12 16:40:26+00:00</td>\n",
       "      <td>1003</td>\n",
       "      <td>0.736727</td>\n",
       "      <td>0.936667</td>\n",
       "      <td>939</td>\n",
       "    </tr>\n",
       "  </tbody>\n",
       "</table>\n",
       "</div>"
      ],
      "text/plain": [
       "            event_timestamp  driver_id  driver_hourly_stats__conv_rate  \\\n",
       "0 2021-04-12 08:12:10+00:00       1002                        0.312347   \n",
       "1 2021-04-12 10:59:42+00:00       1001                        0.175219   \n",
       "2 2021-04-12 15:01:12+00:00       1004                        0.094609   \n",
       "3 2021-04-12 16:40:26+00:00       1003                        0.736727   \n",
       "\n",
       "   driver_hourly_stats__acc_rate  driver_hourly_stats__avg_daily_trips  \n",
       "0                       0.481786                                   810  \n",
       "1                       0.761434                                   385  \n",
       "2                       0.151163                                   166  \n",
       "3                       0.936667                                   939  "
      ]
     },
     "execution_count": 11,
     "metadata": {},
     "output_type": "execute_result"
    }
   ],
   "source": [
    "training_df = get_training_data(repo_path)\n",
    "training_df.head()"
   ]
  },
  {
   "cell_type": "markdown",
   "id": "eff3135e-0cd6-4572-a522-438a79937dda",
   "metadata": {},
   "source": [
    "####  Now materialize data into online store"
   ]
  },
  {
   "cell_type": "code",
   "execution_count": 12,
   "id": "3ef34ceb-62f8-4ac6-b7cf-9d812509d3dd",
   "metadata": {},
   "outputs": [
    {
     "name": "stderr",
     "output_type": "stream",
     "text": [
      "/usr/local/lib/python3.9/site-packages/ipykernel/ipkernel.py:283: DeprecationWarning: `should_run_async` will not call `transform_cell` automatically in the future. Please pass the result to `transformed_cell` argument and any exception that happen during thetransform in `preprocessing_exc_tuple` in IPython 7.17 and above.\n",
      "  and should_run_async(code)\n"
     ]
    },
    {
     "name": "stdout",
     "output_type": "stream",
     "text": [
      "Materializing \u001b[1m\u001b[32m1\u001b[0m feature views to \u001b[1m\u001b[32m2021-08-02 01:14:39-07:00\u001b[0m into the \u001b[1m\u001b[32msqlite\u001b[0m online store.\n",
      "\n",
      "\u001b[1m\u001b[32mdriver_hourly_stats\u001b[0m from \u001b[1m\u001b[32m2021-08-01 01:14:39-07:00\u001b[0m to \u001b[1m\u001b[32m2021-08-02 01:14:39-07:00\u001b[0m:\n"
     ]
    },
    {
     "name": "stderr",
     "output_type": "stream",
     "text": [
      "0it [00:00, ?it/s]\n"
     ]
    }
   ],
   "source": [
    "fs.materialize_incremental(end_date=datetime.utcnow() - timedelta(minutes=0))"
   ]
  },
  {
   "cell_type": "markdown",
   "id": "55d6b762-92c8-4e17-adec-5e5fbbe547e1",
   "metadata": {},
   "source": [
    "### Get the feature vector for inferencing from the online store"
   ]
  },
  {
   "cell_type": "code",
   "execution_count": 13,
   "id": "d69f4dfa-5711-4a8b-b664-42ca551098b7",
   "metadata": {},
   "outputs": [
    {
     "name": "stdout",
     "output_type": "stream",
     "text": [
      "{'driver_hourly_stats__acc_rate': [None],\n",
      " 'driver_hourly_stats__avg_daily_trips': [None],\n",
      " 'driver_hourly_stats__conv_rate': [None],\n",
      " 'driver_id': [1001]}\n"
     ]
    }
   ],
   "source": [
    "feature_vector = get_feature_vector(repo_path)\n",
    "pprint(feature_vector)"
   ]
  },
  {
   "cell_type": "code",
   "execution_count": null,
   "id": "e12f39d1-498c-4eb8-b9aa-a2d4abe5a10d",
   "metadata": {},
   "outputs": [],
   "source": []
  }
 ],
 "metadata": {
  "kernelspec": {
   "display_name": "Python 3",
   "language": "python",
   "name": "python3"
  },
  "language_info": {
   "codemirror_mode": {
    "name": "ipython",
    "version": 3
   },
   "file_extension": ".py",
   "mimetype": "text/x-python",
   "name": "python",
   "nbconvert_exporter": "python",
   "pygments_lexer": "ipython3",
   "version": "3.9.5"
  }
 },
 "nbformat": 4,
 "nbformat_minor": 5
}
