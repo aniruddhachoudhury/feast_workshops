{
 "cells": [
  {
   "cell_type": "markdown",
   "id": "2f3cf39b-f14c-4727-be66-736485fbbe59",
   "metadata": {},
   "source": [
    "## A Credit Scoring Use Case for Loan Approval: Using Distributed Training with Ray and XGBoost and Feast\n",
    "![](images/feast_ray_xgboost.png)"
   ]
  },
  {
   "cell_type": "code",
   "execution_count": 1,
   "id": "d6369a05-35f7-4712-9568-d16536b832ec",
   "metadata": {},
   "outputs": [],
   "source": [
    "import sys\n",
    "sys.path.insert(0, \"../\")"
   ]
  },
  {
   "cell_type": "markdown",
   "id": "82b6b301-b734-42dd-9a45-e9162d84c5bb",
   "metadata": {},
   "source": [
    "### Import General Python libs and modules"
   ]
  },
  {
   "cell_type": "code",
   "execution_count": 2,
   "id": "71368eb6-519a-47dc-a471-21ae750b3bc2",
   "metadata": {},
   "outputs": [],
   "source": [
    "import pandas as pd\n",
    "import numpy as np\n",
    "from pathlib import Path\n",
    "\n",
    "from sklearn.model_selection import train_test_split\n",
    "from sklearn.metrics import accuracy_score\n",
    "from sklearn.preprocessing import OrdinalEncoder\n",
    "from sklearn.metrics import precision_score\n",
    "\n",
    "from xgboost_ray import RayXGBClassifier, RayParams\n",
    "import xgboost as xgb"
   ]
  },
  {
   "cell_type": "markdown",
   "id": "53f63be4-26c9-4e3d-9672-be6420454379",
   "metadata": {},
   "source": [
    "### Import Feast related modules and definitions from feast_repo directories and Ray modules"
   ]
  },
  {
   "cell_type": "code",
   "execution_count": 3,
   "id": "57dd1afe-4917-480d-a068-86d83130d5f9",
   "metadata": {},
   "outputs": [],
   "source": [
    "from feast import FeatureStore\n",
    "from utils.data_fetcher import DataFetcher\n",
    "from queries.ray_train_model import CreditRayXGBClassifier"
   ]
  },
  {
   "cell_type": "markdown",
   "id": "f51f10c5-e617-44b3-91ce-105f4f28e4ad",
   "metadata": {},
   "source": [
    "### Create instances of \n",
    " * feature store\n",
    " * data fetcher utility class\n",
    " * RayXGBoost classifier for distributed training"
   ]
  },
  {
   "cell_type": "code",
   "execution_count": 4,
   "id": "69cf2b84-00cd-4a36-840a-c6df66072fde",
   "metadata": {},
   "outputs": [],
   "source": [
    "# Change this path to your location\n",
    "REPO_PATH = Path(\"/Users/jules/git-repos/feast_workshops/module_3/feature_repo\")\n",
    "store = FeatureStore(repo_path=REPO_PATH)\n",
    "fetcher = DataFetcher(store, REPO_PATH)\n",
    "xgboost_cls = CreditRayXGBClassifier(store, fetcher)"
   ]
  },
  {
   "cell_type": "markdown",
   "id": "59f6cc60-fcf8-4202-95e7-1c54cddd0daf",
   "metadata": {},
   "source": [
    "### Train the RayXGBoost classifier for distributed training on localhost using a four cores or processes"
   ]
  },
  {
   "cell_type": "code",
   "execution_count": 5,
   "id": "c7785fe4-6c4c-4397-b660-08178d0d6adb",
   "metadata": {},
   "outputs": [
    {
     "name": "stderr",
     "output_type": "stream",
     "text": [
      "/Users/jules/miniconda3/lib/python3.9/site-packages/xgboost_ray/sklearn.py:751: UserWarning: The use of label encoder in XGBClassifier is deprecated and will be removed in a future release. To remove this warning, do the following: 1) Pass option use_label_encoder=False when constructing XGBClassifier object; and 2) Encode your labels (y) as integers starting with 0, i.e. 0, 1, 2, ..., [num_class - 1].\n",
      "  warnings.warn(label_encoder_deprecation_msg, UserWarning)\n",
      "2021-09-16 13:52:31,834\tINFO services.py:1263 -- View the Ray dashboard at \u001b[1m\u001b[32mhttp://127.0.0.1:8265\u001b[39m\u001b[22m\n",
      "2021-09-16 13:52:34,181\tINFO main.py:913 -- [RayXGBoost] Created 4 new actors (4 total actors). Waiting until actors are ready for training.\n",
      "2021-09-16 13:52:35,348\tINFO main.py:958 -- [RayXGBoost] Starting XGBoost training.\n",
      "09/16/2021 01:52:35 PM INFO:start listen on 10.0.0.233:9091\n",
      "09/16/2021 01:52:35 PM INFO:@tracker All of 4 nodes getting started\n",
      "\u001b[2m\u001b[36m(pid=91049)\u001b[0m [13:52:35] task [xgboost.ray]:140547274213168 got new rank 1\n",
      "\u001b[2m\u001b[36m(pid=91050)\u001b[0m [13:52:35] task [xgboost.ray]:140501958948464 got new rank 3\n",
      "\u001b[2m\u001b[36m(pid=91052)\u001b[0m [13:52:35] task [xgboost.ray]:140193954436432 got new rank 2\n",
      "\u001b[2m\u001b[36m(pid=91053)\u001b[0m [13:52:35] task [xgboost.ray]:140186304022608 got new rank 0\n",
      "\u001b[2m\u001b[36m(pid=91049)\u001b[0m [13:52:35] WARNING: /Users/travis/build/dmlc/xgboost/src/learner.cc:1095: Starting in XGBoost 1.3.0, the default evaluation metric used with the objective 'binary:logistic' was changed from 'error' to 'logloss'. Explicitly set eval_metric if you'd like to restore the old behavior.\n",
      "\u001b[2m\u001b[36m(pid=91050)\u001b[0m [13:52:35] WARNING: /Users/travis/build/dmlc/xgboost/src/learner.cc:1095: Starting in XGBoost 1.3.0, the default evaluation metric used with the objective 'binary:logistic' was changed from 'error' to 'logloss'. Explicitly set eval_metric if you'd like to restore the old behavior.\n",
      "\u001b[2m\u001b[36m(pid=91052)\u001b[0m [13:52:35] WARNING: /Users/travis/build/dmlc/xgboost/src/learner.cc:1095: Starting in XGBoost 1.3.0, the default evaluation metric used with the objective 'binary:logistic' was changed from 'error' to 'logloss'. Explicitly set eval_metric if you'd like to restore the old behavior.\n",
      "\u001b[2m\u001b[36m(pid=91053)\u001b[0m [13:52:35] WARNING: /Users/travis/build/dmlc/xgboost/src/learner.cc:1095: Starting in XGBoost 1.3.0, the default evaluation metric used with the objective 'binary:logistic' was changed from 'error' to 'logloss'. Explicitly set eval_metric if you'd like to restore the old behavior.\n",
      "09/16/2021 01:52:37 PM INFO:@tracker All nodes finishes job\n",
      "09/16/2021 01:52:37 PM INFO:@tracker 2.2452852725982666 secs between node start and job finish\n",
      "2021-09-16 13:52:37,776\tINFO main.py:1436 -- [RayXGBoost] Finished XGBoost training on training data with total N=21,478 in 3.70 seconds (2.42 pure XGBoost training time).\n",
      "2021-09-16 13:52:37,804\tINFO main.py:1476 -- [RayXGBoost] Created 4 remote actors.\n",
      "2021-09-16 13:52:38,796\tINFO main.py:1493 -- [RayXGBoost] Starting XGBoost prediction.\n"
     ]
    },
    {
     "name": "stdout",
     "output_type": "stream",
     "text": [
      "[0 0 0 ... 0 0 0]\n"
     ]
    },
    {
     "name": "stderr",
     "output_type": "stream",
     "text": [
      "2021-09-16 13:52:39,666\tINFO main.py:913 -- [RayXGBoost] Created 4 new actors (4 total actors). Waiting until actors are ready for training.\n",
      "2021-09-16 13:52:41,108\tINFO main.py:958 -- [RayXGBoost] Starting XGBoost training.\n",
      "09/16/2021 01:52:41 PM INFO:start listen on 10.0.0.233:9091\n",
      "09/16/2021 01:52:41 PM INFO:@tracker All of 4 nodes getting started\n",
      "\u001b[2m\u001b[36m(pid=91058)\u001b[0m [13:52:41] task [xgboost.ray]:140660000323184 got new rank 0\n",
      "\u001b[2m\u001b[36m(pid=91058)\u001b[0m [13:52:41] WARNING: /Users/travis/build/dmlc/xgboost/src/learner.cc:1095: Starting in XGBoost 1.3.0, the default evaluation metric used with the objective 'binary:logistic' was changed from 'error' to 'logloss'. Explicitly set eval_metric if you'd like to restore the old behavior.\n",
      "\u001b[2m\u001b[36m(pid=91062)\u001b[0m [13:52:41] task [xgboost.ray]:140721875809856 got new rank 2\n",
      "\u001b[2m\u001b[36m(pid=91062)\u001b[0m [13:52:41] WARNING: /Users/travis/build/dmlc/xgboost/src/learner.cc:1095: Starting in XGBoost 1.3.0, the default evaluation metric used with the objective 'binary:logistic' was changed from 'error' to 'logloss'. Explicitly set eval_metric if you'd like to restore the old behavior.\n",
      "\u001b[2m\u001b[36m(pid=91063)\u001b[0m [13:52:41] task [xgboost.ray]:140260584093536 got new rank 3\n",
      "\u001b[2m\u001b[36m(pid=91063)\u001b[0m [13:52:41] WARNING: /Users/travis/build/dmlc/xgboost/src/learner.cc:1095: Starting in XGBoost 1.3.0, the default evaluation metric used with the objective 'binary:logistic' was changed from 'error' to 'logloss'. Explicitly set eval_metric if you'd like to restore the old behavior.\n",
      "\u001b[2m\u001b[36m(pid=91061)\u001b[0m [13:52:41] task [xgboost.ray]:140215068620352 got new rank 1\n",
      "\u001b[2m\u001b[36m(pid=91061)\u001b[0m [13:52:41] WARNING: /Users/travis/build/dmlc/xgboost/src/learner.cc:1095: Starting in XGBoost 1.3.0, the default evaluation metric used with the objective 'binary:logistic' was changed from 'error' to 'logloss'. Explicitly set eval_metric if you'd like to restore the old behavior.\n",
      "09/16/2021 01:52:43 PM INFO:@tracker All nodes finishes job\n",
      "09/16/2021 01:52:43 PM INFO:@tracker 2.2182810306549072 secs between node start and job finish\n",
      "2021-09-16 13:52:43,537\tINFO main.py:1436 -- [RayXGBoost] Finished XGBoost training on training data with total N=21,478 in 4.68 seconds (2.42 pure XGBoost training time).\n",
      "2021-09-16 13:52:43,558\tINFO main.py:1476 -- [RayXGBoost] Created 4 remote actors.\n",
      "2021-09-16 13:52:45,107\tINFO main.py:1493 -- [RayXGBoost] Starting XGBoost prediction.\n"
     ]
    },
    {
     "name": "stdout",
     "output_type": "stream",
     "text": [
      "[0 0 0 ... 0 0 0]\n"
     ]
    },
    {
     "name": "stderr",
     "output_type": "stream",
     "text": [
      "2021-09-16 13:52:45,907\tINFO main.py:913 -- [RayXGBoost] Created 4 new actors (4 total actors). Waiting until actors are ready for training.\n",
      "2021-09-16 13:52:47,350\tINFO main.py:958 -- [RayXGBoost] Starting XGBoost training.\n",
      "09/16/2021 01:52:47 PM INFO:start listen on 10.0.0.233:9091\n",
      "09/16/2021 01:52:47 PM INFO:@tracker All of 4 nodes getting started\n",
      "\u001b[2m\u001b[36m(pid=91071)\u001b[0m [13:52:47] task [xgboost.ray]:140272312387040 got new rank 0\n",
      "\u001b[2m\u001b[36m(pid=91071)\u001b[0m [13:52:47] WARNING: /Users/travis/build/dmlc/xgboost/src/learner.cc:1095: Starting in XGBoost 1.3.0, the default evaluation metric used with the objective 'binary:logistic' was changed from 'error' to 'logloss'. Explicitly set eval_metric if you'd like to restore the old behavior.\n",
      "\u001b[2m\u001b[36m(pid=91072)\u001b[0m [13:52:47] task [xgboost.ray]:140603017676400 got new rank 1\n",
      "\u001b[2m\u001b[36m(pid=91072)\u001b[0m [13:52:47] WARNING: /Users/travis/build/dmlc/xgboost/src/learner.cc:1095: Starting in XGBoost 1.3.0, the default evaluation metric used with the objective 'binary:logistic' was changed from 'error' to 'logloss'. Explicitly set eval_metric if you'd like to restore the old behavior.\n",
      "\u001b[2m\u001b[36m(pid=91074)\u001b[0m [13:52:47] task [xgboost.ray]:140330966730304 got new rank 3\n",
      "\u001b[2m\u001b[36m(pid=91074)\u001b[0m [13:52:47] WARNING: /Users/travis/build/dmlc/xgboost/src/learner.cc:1095: Starting in XGBoost 1.3.0, the default evaluation metric used with the objective 'binary:logistic' was changed from 'error' to 'logloss'. Explicitly set eval_metric if you'd like to restore the old behavior.\n",
      "\u001b[2m\u001b[36m(pid=91073)\u001b[0m [13:52:47] task [xgboost.ray]:140676484003392 got new rank 2\n",
      "\u001b[2m\u001b[36m(pid=91073)\u001b[0m [13:52:47] WARNING: /Users/travis/build/dmlc/xgboost/src/learner.cc:1095: Starting in XGBoost 1.3.0, the default evaluation metric used with the objective 'binary:logistic' was changed from 'error' to 'logloss'. Explicitly set eval_metric if you'd like to restore the old behavior.\n",
      "09/16/2021 01:52:49 PM INFO:@tracker All nodes finishes job\n",
      "09/16/2021 01:52:49 PM INFO:@tracker 2.347954750061035 secs between node start and job finish\n",
      "2021-09-16 13:52:49,871\tINFO main.py:1436 -- [RayXGBoost] Finished XGBoost training on training data with total N=21,478 in 4.70 seconds (2.52 pure XGBoost training time).\n",
      "2021-09-16 13:52:49,898\tINFO main.py:1476 -- [RayXGBoost] Created 4 remote actors.\n",
      "2021-09-16 13:52:51,476\tINFO main.py:1493 -- [RayXGBoost] Starting XGBoost prediction.\n"
     ]
    },
    {
     "name": "stdout",
     "output_type": "stream",
     "text": [
      "[0 0 0 ... 0 0 0]\n"
     ]
    },
    {
     "name": "stderr",
     "output_type": "stream",
     "text": [
      "2021-09-16 13:52:52,300\tINFO main.py:913 -- [RayXGBoost] Created 4 new actors (4 total actors). Waiting until actors are ready for training.\n",
      "2021-09-16 13:52:53,854\tINFO main.py:958 -- [RayXGBoost] Starting XGBoost training.\n",
      "09/16/2021 01:52:53 PM INFO:start listen on 10.0.0.233:9091\n",
      "09/16/2021 01:52:53 PM INFO:@tracker All of 4 nodes getting started\n",
      "\u001b[2m\u001b[36m(pid=91083)\u001b[0m [13:52:53] task [xgboost.ray]:140550110264864 got new rank 0\n",
      "\u001b[2m\u001b[36m(pid=91083)\u001b[0m [13:52:53] WARNING: /Users/travis/build/dmlc/xgboost/src/learner.cc:1095: Starting in XGBoost 1.3.0, the default evaluation metric used with the objective 'binary:logistic' was changed from 'error' to 'logloss'. Explicitly set eval_metric if you'd like to restore the old behavior.\n",
      "\u001b[2m\u001b[36m(pid=91086)\u001b[0m [13:52:53] task [xgboost.ray]:140530924877376 got new rank 3\n",
      "\u001b[2m\u001b[36m(pid=91086)\u001b[0m [13:52:53] WARNING: /Users/travis/build/dmlc/xgboost/src/learner.cc:1095: Starting in XGBoost 1.3.0, the default evaluation metric used with the objective 'binary:logistic' was changed from 'error' to 'logloss'. Explicitly set eval_metric if you'd like to restore the old behavior.\n",
      "\u001b[2m\u001b[36m(pid=91084)\u001b[0m [13:52:53] task [xgboost.ray]:140366516487792 got new rank 1\n",
      "\u001b[2m\u001b[36m(pid=91084)\u001b[0m [13:52:53] WARNING: /Users/travis/build/dmlc/xgboost/src/learner.cc:1095: Starting in XGBoost 1.3.0, the default evaluation metric used with the objective 'binary:logistic' was changed from 'error' to 'logloss'. Explicitly set eval_metric if you'd like to restore the old behavior.\n",
      "\u001b[2m\u001b[36m(pid=91085)\u001b[0m [13:52:53] task [xgboost.ray]:140593822598768 got new rank 2\n",
      "\u001b[2m\u001b[36m(pid=91085)\u001b[0m [13:52:53] WARNING: /Users/travis/build/dmlc/xgboost/src/learner.cc:1095: Starting in XGBoost 1.3.0, the default evaluation metric used with the objective 'binary:logistic' was changed from 'error' to 'logloss'. Explicitly set eval_metric if you'd like to restore the old behavior.\n",
      "09/16/2021 01:52:56 PM INFO:@tracker All nodes finishes job\n",
      "09/16/2021 01:52:56 PM INFO:@tracker 2.2308690547943115 secs between node start and job finish\n",
      "2021-09-16 13:52:56,259\tINFO main.py:1436 -- [RayXGBoost] Finished XGBoost training on training data with total N=21,478 in 4.72 seconds (2.40 pure XGBoost training time).\n",
      "2021-09-16 13:52:56,284\tINFO main.py:1476 -- [RayXGBoost] Created 4 remote actors.\n",
      "2021-09-16 13:52:57,853\tINFO main.py:1493 -- [RayXGBoost] Starting XGBoost prediction.\n"
     ]
    },
    {
     "name": "stdout",
     "output_type": "stream",
     "text": [
      "[0 0 0 ... 0 0 0]\n"
     ]
    },
    {
     "name": "stderr",
     "output_type": "stream",
     "text": [
      "2021-09-16 13:52:58,669\tINFO main.py:913 -- [RayXGBoost] Created 4 new actors (4 total actors). Waiting until actors are ready for training.\n",
      "2021-09-16 13:53:00,534\tINFO main.py:958 -- [RayXGBoost] Starting XGBoost training.\n",
      "09/16/2021 01:53:00 PM INFO:start listen on 10.0.0.233:9091\n",
      "09/16/2021 01:53:00 PM INFO:@tracker All of 4 nodes getting started\n",
      "\u001b[2m\u001b[36m(pid=91095)\u001b[0m [13:53:00] task [xgboost.ray]:140641746777568 got new rank 0\n",
      "\u001b[2m\u001b[36m(pid=91098)\u001b[0m [13:53:00] task [xgboost.ray]:140276154402656 got new rank 3\n",
      "\u001b[2m\u001b[36m(pid=91096)\u001b[0m [13:53:00] task [xgboost.ray]:140695970678624 got new rank 1\n",
      "\u001b[2m\u001b[36m(pid=91097)\u001b[0m [13:53:00] task [xgboost.ray]:140240663312224 got new rank 2\n",
      "\u001b[2m\u001b[36m(pid=91095)\u001b[0m [13:53:00] WARNING: /Users/travis/build/dmlc/xgboost/src/learner.cc:1095: Starting in XGBoost 1.3.0, the default evaluation metric used with the objective 'binary:logistic' was changed from 'error' to 'logloss'. Explicitly set eval_metric if you'd like to restore the old behavior.\n",
      "\u001b[2m\u001b[36m(pid=91098)\u001b[0m [13:53:00] WARNING: /Users/travis/build/dmlc/xgboost/src/learner.cc:1095: Starting in XGBoost 1.3.0, the default evaluation metric used with the objective 'binary:logistic' was changed from 'error' to 'logloss'. Explicitly set eval_metric if you'd like to restore the old behavior.\n",
      "\u001b[2m\u001b[36m(pid=91096)\u001b[0m [13:53:00] WARNING: /Users/travis/build/dmlc/xgboost/src/learner.cc:1095: Starting in XGBoost 1.3.0, the default evaluation metric used with the objective 'binary:logistic' was changed from 'error' to 'logloss'. Explicitly set eval_metric if you'd like to restore the old behavior.\n",
      "\u001b[2m\u001b[36m(pid=91097)\u001b[0m [13:53:00] WARNING: /Users/travis/build/dmlc/xgboost/src/learner.cc:1095: Starting in XGBoost 1.3.0, the default evaluation metric used with the objective 'binary:logistic' was changed from 'error' to 'logloss'. Explicitly set eval_metric if you'd like to restore the old behavior.\n",
      "09/16/2021 01:53:02 PM INFO:@tracker All nodes finishes job\n",
      "09/16/2021 01:53:02 PM INFO:@tracker 2.2859551906585693 secs between node start and job finish\n",
      "2021-09-16 13:53:03,057\tINFO main.py:1436 -- [RayXGBoost] Finished XGBoost training on training data with total N=21,478 in 5.14 seconds (2.51 pure XGBoost training time).\n",
      "2021-09-16 13:53:03,074\tINFO main.py:1476 -- [RayXGBoost] Created 4 remote actors.\n",
      "2021-09-16 13:53:04,568\tINFO main.py:1493 -- [RayXGBoost] Starting XGBoost prediction.\n"
     ]
    },
    {
     "name": "stdout",
     "output_type": "stream",
     "text": [
      "[0 0 0 ... 0 0 0]\n"
     ]
    },
    {
     "name": "stderr",
     "output_type": "stream",
     "text": [
      "2021-09-16 13:53:05,342\tINFO main.py:913 -- [RayXGBoost] Created 4 new actors (4 total actors). Waiting until actors are ready for training.\n",
      "2021-09-16 13:53:06,905\tINFO main.py:958 -- [RayXGBoost] Starting XGBoost training.\n",
      "09/16/2021 01:53:06 PM INFO:start listen on 10.0.0.233:9091\n",
      "09/16/2021 01:53:06 PM INFO:@tracker All of 4 nodes getting started\n",
      "\u001b[2m\u001b[36m(pid=91123)\u001b[0m [13:53:06] task [xgboost.ray]:140448917788128 got new rank 0\n",
      "\u001b[2m\u001b[36m(pid=91123)\u001b[0m [13:53:06] WARNING: /Users/travis/build/dmlc/xgboost/src/learner.cc:1095: Starting in XGBoost 1.3.0, the default evaluation metric used with the objective 'binary:logistic' was changed from 'error' to 'logloss'. Explicitly set eval_metric if you'd like to restore the old behavior.\n",
      "\u001b[2m\u001b[36m(pid=91126)\u001b[0m [13:53:06] task [xgboost.ray]:140191949616752 got new rank 3\n",
      "\u001b[2m\u001b[36m(pid=91126)\u001b[0m [13:53:06] WARNING: /Users/travis/build/dmlc/xgboost/src/learner.cc:1095: Starting in XGBoost 1.3.0, the default evaluation metric used with the objective 'binary:logistic' was changed from 'error' to 'logloss'. Explicitly set eval_metric if you'd like to restore the old behavior.\n",
      "\u001b[2m\u001b[36m(pid=91124)\u001b[0m [13:53:06] task [xgboost.ray]:140415195641408 got new rank 1\n",
      "\u001b[2m\u001b[36m(pid=91124)\u001b[0m [13:53:06] WARNING: /Users/travis/build/dmlc/xgboost/src/learner.cc:1095: Starting in XGBoost 1.3.0, the default evaluation metric used with the objective 'binary:logistic' was changed from 'error' to 'logloss'. Explicitly set eval_metric if you'd like to restore the old behavior.\n",
      "\u001b[2m\u001b[36m(pid=91125)\u001b[0m [13:53:06] task [xgboost.ray]:140298283664960 got new rank 2\n",
      "\u001b[2m\u001b[36m(pid=91125)\u001b[0m [13:53:06] WARNING: /Users/travis/build/dmlc/xgboost/src/learner.cc:1095: Starting in XGBoost 1.3.0, the default evaluation metric used with the objective 'binary:logistic' was changed from 'error' to 'logloss'. Explicitly set eval_metric if you'd like to restore the old behavior.\n",
      "09/16/2021 01:53:09 PM INFO:@tracker All nodes finishes job\n",
      "09/16/2021 01:53:09 PM INFO:@tracker 2.3607380390167236 secs between node start and job finish\n",
      "2021-09-16 13:53:09,431\tINFO main.py:1436 -- [RayXGBoost] Finished XGBoost training on training data with total N=21,478 in 4.80 seconds (2.52 pure XGBoost training time).\n",
      "2021-09-16 13:53:09,451\tINFO main.py:1476 -- [RayXGBoost] Created 4 remote actors.\n",
      "2021-09-16 13:53:11,115\tINFO main.py:1493 -- [RayXGBoost] Starting XGBoost prediction.\n"
     ]
    },
    {
     "name": "stdout",
     "output_type": "stream",
     "text": [
      "[0 0 0 ... 0 0 0]\n"
     ]
    },
    {
     "name": "stderr",
     "output_type": "stream",
     "text": [
      "2021-09-16 13:53:11,911\tINFO main.py:913 -- [RayXGBoost] Created 4 new actors (4 total actors). Waiting until actors are ready for training.\n",
      "2021-09-16 13:53:13,370\tINFO main.py:958 -- [RayXGBoost] Starting XGBoost training.\n",
      "09/16/2021 01:53:13 PM INFO:start listen on 10.0.0.233:9091\n",
      "09/16/2021 01:53:13 PM INFO:@tracker All of 4 nodes getting started\n",
      "\u001b[2m\u001b[36m(pid=91135)\u001b[0m [13:53:13] task [xgboost.ray]:140227619026400 got new rank 0\n",
      "\u001b[2m\u001b[36m(pid=91135)\u001b[0m [13:53:13] WARNING: /Users/travis/build/dmlc/xgboost/src/learner.cc:1095: Starting in XGBoost 1.3.0, the default evaluation metric used with the objective 'binary:logistic' was changed from 'error' to 'logloss'. Explicitly set eval_metric if you'd like to restore the old behavior.\n",
      "\u001b[2m\u001b[36m(pid=91138)\u001b[0m [13:53:13] task [xgboost.ray]:140712480564800 got new rank 3\n",
      "\u001b[2m\u001b[36m(pid=91138)\u001b[0m [13:53:13] WARNING: /Users/travis/build/dmlc/xgboost/src/learner.cc:1095: Starting in XGBoost 1.3.0, the default evaluation metric used with the objective 'binary:logistic' was changed from 'error' to 'logloss'. Explicitly set eval_metric if you'd like to restore the old behavior.\n",
      "\u001b[2m\u001b[36m(pid=91137)\u001b[0m [13:53:13] task [xgboost.ray]:140691449218624 got new rank 2\n",
      "\u001b[2m\u001b[36m(pid=91137)\u001b[0m [13:53:13] WARNING: /Users/travis/build/dmlc/xgboost/src/learner.cc:1095: Starting in XGBoost 1.3.0, the default evaluation metric used with the objective 'binary:logistic' was changed from 'error' to 'logloss'. Explicitly set eval_metric if you'd like to restore the old behavior.\n",
      "\u001b[2m\u001b[36m(pid=91136)\u001b[0m [13:53:13] task [xgboost.ray]:140305422251536 got new rank 1\n",
      "\u001b[2m\u001b[36m(pid=91136)\u001b[0m [13:53:13] WARNING: /Users/travis/build/dmlc/xgboost/src/learner.cc:1095: Starting in XGBoost 1.3.0, the default evaluation metric used with the objective 'binary:logistic' was changed from 'error' to 'logloss'. Explicitly set eval_metric if you'd like to restore the old behavior.\n",
      "09/16/2021 01:53:15 PM INFO:@tracker All nodes finishes job\n",
      "09/16/2021 01:53:15 PM INFO:@tracker 2.187055826187134 secs between node start and job finish\n",
      "2021-09-16 13:53:15,752\tINFO main.py:1436 -- [RayXGBoost] Finished XGBoost training on training data with total N=21,478 in 4.57 seconds (2.38 pure XGBoost training time).\n",
      "2021-09-16 13:53:15,774\tINFO main.py:1476 -- [RayXGBoost] Created 4 remote actors.\n",
      "2021-09-16 13:53:17,310\tINFO main.py:1493 -- [RayXGBoost] Starting XGBoost prediction.\n"
     ]
    },
    {
     "name": "stdout",
     "output_type": "stream",
     "text": [
      "[0 0 0 ... 0 0 0]\n"
     ]
    },
    {
     "name": "stderr",
     "output_type": "stream",
     "text": [
      "2021-09-16 13:53:18,301\tINFO main.py:913 -- [RayXGBoost] Created 4 new actors (4 total actors). Waiting until actors are ready for training.\n",
      "2021-09-16 13:53:19,753\tINFO main.py:958 -- [RayXGBoost] Starting XGBoost training.\n",
      "09/16/2021 01:53:19 PM INFO:start listen on 10.0.0.233:9091\n",
      "09/16/2021 01:53:19 PM INFO:@tracker All of 4 nodes getting started\n",
      "\u001b[2m\u001b[36m(pid=91147)\u001b[0m [13:53:19] task [xgboost.ray]:140300112270960 got new rank 0\n",
      "\u001b[2m\u001b[36m(pid=91147)\u001b[0m [13:53:19] WARNING: /Users/travis/build/dmlc/xgboost/src/learner.cc:1095: Starting in XGBoost 1.3.0, the default evaluation metric used with the objective 'binary:logistic' was changed from 'error' to 'logloss'. Explicitly set eval_metric if you'd like to restore the old behavior.\n",
      "\u001b[2m\u001b[36m(pid=91148)\u001b[0m [13:53:19] task [xgboost.ray]:140728553137776 got new rank 1\n",
      "\u001b[2m\u001b[36m(pid=91148)\u001b[0m [13:53:19] WARNING: /Users/travis/build/dmlc/xgboost/src/learner.cc:1095: Starting in XGBoost 1.3.0, the default evaluation metric used with the objective 'binary:logistic' was changed from 'error' to 'logloss'. Explicitly set eval_metric if you'd like to restore the old behavior.\n",
      "\u001b[2m\u001b[36m(pid=91149)\u001b[0m [13:53:19] task [xgboost.ray]:140277128590912 got new rank 2\n",
      "\u001b[2m\u001b[36m(pid=91149)\u001b[0m [13:53:19] WARNING: /Users/travis/build/dmlc/xgboost/src/learner.cc:1095: Starting in XGBoost 1.3.0, the default evaluation metric used with the objective 'binary:logistic' was changed from 'error' to 'logloss'. Explicitly set eval_metric if you'd like to restore the old behavior.\n",
      "\u001b[2m\u001b[36m(pid=91150)\u001b[0m [13:53:19] task [xgboost.ray]:140305809176128 got new rank 3\n",
      "\u001b[2m\u001b[36m(pid=91150)\u001b[0m [13:53:19] WARNING: /Users/travis/build/dmlc/xgboost/src/learner.cc:1095: Starting in XGBoost 1.3.0, the default evaluation metric used with the objective 'binary:logistic' was changed from 'error' to 'logloss'. Explicitly set eval_metric if you'd like to restore the old behavior.\n",
      "09/16/2021 01:53:22 PM INFO:@tracker All nodes finishes job\n",
      "09/16/2021 01:53:22 PM INFO:@tracker 2.263556957244873 secs between node start and job finish\n",
      "2021-09-16 13:53:22,177\tINFO main.py:1436 -- [RayXGBoost] Finished XGBoost training on training data with total N=21,478 in 4.80 seconds (2.42 pure XGBoost training time).\n",
      "2021-09-16 13:53:22,196\tINFO main.py:1476 -- [RayXGBoost] Created 4 remote actors.\n",
      "2021-09-16 13:53:23,829\tINFO main.py:1493 -- [RayXGBoost] Starting XGBoost prediction.\n"
     ]
    },
    {
     "name": "stdout",
     "output_type": "stream",
     "text": [
      "[0 0 0 ... 0 0 0]\n",
      "6.43 s ± 159 ms per loop (mean ± std. dev. of 7 runs, 1 loop each)\n"
     ]
    }
   ],
   "source": [
    "%timeit xgboost_cls.train()"
   ]
  },
  {
   "cell_type": "markdown",
   "id": "080ce609-2def-4b27-be36-7cde30da2522",
   "metadata": {},
   "source": [
    "### Define loan requests"
   ]
  },
  {
   "cell_type": "code",
   "execution_count": 6,
   "id": "92e75800-8e23-43cc-bb69-8497591aed3b",
   "metadata": {},
   "outputs": [],
   "source": [
    "loan_requests = [\n",
    "    {\n",
    "        \"zipcode\": [76104],\n",
    "        \"person_age\": [22],\n",
    "        \"person_income\": [59000],\n",
    "        \"person_home_ownership\": [\"RENT\"],\n",
    "        \"person_emp_length\": [123.0],\n",
    "        \"loan_intent\": [\"PERSONAL\"],\n",
    "        \"loan_amnt\": [35000],\n",
    "        \"loan_int_rate\": [16.02],\n",
    "        \"dob_ssn\": [\"19530219_5179\"]\n",
    "    },\n",
    "    {\n",
    "        \"zipcode\": [69033],\n",
    "        \"person_age\": [66],\n",
    "        \"person_income\": [42000],\n",
    "        \"person_home_ownership\": [\"RENT\"],\n",
    "        \"person_emp_length\": [2.0],\n",
    "        \"loan_intent\": [\"MEDICAL\"],\n",
    "        \"loan_amnt\": [6475],\n",
    "        \"loan_int_rate\": [9.99],\n",
    "        \"dob_ssn\": [\"19960703_3449\"]\n",
    "    }\n",
    "]"
   ]
  },
  {
   "cell_type": "markdown",
   "id": "a09c022d-1366-400b-8bb6-0af806bb2d9a",
   "metadata": {},
   "source": [
    "### Predict the loan requests"
   ]
  },
  {
   "cell_type": "code",
   "execution_count": 7,
   "id": "be4e0d69-6aa1-4714-97bf-162107cc5051",
   "metadata": {},
   "outputs": [
    {
     "name": "stderr",
     "output_type": "stream",
     "text": [
      "/Users/jules/miniconda3/lib/python3.9/site-packages/xgboost_ray/sklearn.py:294: UserWarning: `ray_params` is not `None` and will override the `n_jobs` attribute.\n",
      "  warnings.warn(\"`ray_params` is not `None` and will override \"\n",
      "/Users/jules/miniconda3/lib/python3.9/site-packages/xgboost_ray/main.py:364: UserWarning: `num_actors` in `ray_params` is smaller than 2 (1). XGBoost will NOT be distributed!\n",
      "  warnings.warn(\n",
      "2021-09-16 13:53:32,174\tINFO main.py:1476 -- [RayXGBoost] Created 1 remote actors.\n",
      "2021-09-16 13:53:33,508\tINFO main.py:1493 -- [RayXGBoost] Starting XGBoost prediction.\n"
     ]
    },
    {
     "name": "stdout",
     "output_type": "stream",
     "text": [
      "Loan for 76104 code approved: status_code=1\n"
     ]
    },
    {
     "name": "stderr",
     "output_type": "stream",
     "text": [
      "/Users/jules/miniconda3/lib/python3.9/site-packages/xgboost_ray/sklearn.py:294: UserWarning: `ray_params` is not `None` and will override the `n_jobs` attribute.\n",
      "  warnings.warn(\"`ray_params` is not `None` and will override \"\n",
      "/Users/jules/miniconda3/lib/python3.9/site-packages/xgboost_ray/main.py:364: UserWarning: `num_actors` in `ray_params` is smaller than 2 (1). XGBoost will NOT be distributed!\n",
      "  warnings.warn(\n",
      "2021-09-16 13:53:33,849\tINFO main.py:1476 -- [RayXGBoost] Created 1 remote actors.\n",
      "2021-09-16 13:53:35,083\tINFO main.py:1493 -- [RayXGBoost] Starting XGBoost prediction.\n"
     ]
    },
    {
     "name": "stdout",
     "output_type": "stream",
     "text": [
      "Loan for 69033 code rejected: status_code=0\n"
     ]
    }
   ],
   "source": [
    "for loan_request in loan_requests:\n",
    "    result = round(xgboost_cls.predict(loan_request))\n",
    "    loan_status = \"approved\" if result == 1 else \"rejected\"\n",
    "    print(f\"Loan for {loan_request['zipcode'][0]} code {loan_status}: status_code={result}\")"
   ]
  }
 ],
 "metadata": {
  "kernelspec": {
   "display_name": "Python 3 (ipykernel)",
   "language": "python",
   "name": "python3"
  },
  "language_info": {
   "codemirror_mode": {
    "name": "ipython",
    "version": 3
   },
   "file_extension": ".py",
   "mimetype": "text/x-python",
   "name": "python",
   "nbconvert_exporter": "python",
   "pygments_lexer": "ipython3",
   "version": "3.9.1"
  }
 },
 "nbformat": 4,
 "nbformat_minor": 5
}
