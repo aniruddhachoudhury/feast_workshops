{
 "cells": [
  {
   "cell_type": "markdown",
   "id": "cb324f74-8c08-43e8-9db1-71e5bcbb50e1",
   "metadata": {},
   "source": [
    "### Import General Python libs, defined classes, and modules¶"
   ]
  },
  {
   "cell_type": "code",
   "execution_count": 7,
   "id": "41d65f9d-2109-4c22-a705-ab3488ac5358",
   "metadata": {},
   "outputs": [
    {
     "name": "stderr",
     "output_type": "stream",
     "text": [
      "/usr/local/lib/python3.9/site-packages/ipykernel/ipkernel.py:283: DeprecationWarning: `should_run_async` will not call `transform_cell` automatically in the future. Please pass the result to `transformed_cell` argument and any exception that happen during thetransform in `preprocessing_exc_tuple` in IPython 7.17 and above.\n",
      "  and should_run_async(code)\n"
     ]
    }
   ],
   "source": [
    "import mlflow\n",
    "from train_model import DriverRankingTrainModel\n",
    "from predict_model import DriverRankingPredictModel"
   ]
  },
  {
   "cell_type": "markdown",
   "id": "5c850031-25ce-4130-ba70-8052484c7c2b",
   "metadata": {},
   "source": [
    "### Train the model\n",
    "\n",
    " * Use the `DriverRankingTrainingModel` cls, which fetches training data from the Feast data source\n",
    " * Use `mlflow.autolog` to automatically log the parameters and computed metrics during training\n",
    " * Use `mflow` Fluent APIs to log the Feast training set"
   ]
  },
  {
   "cell_type": "code",
   "execution_count": 8,
   "id": "34790d80-92e0-40e2-a033-2f33dfe176c6",
   "metadata": {},
   "outputs": [
    {
     "name": "stderr",
     "output_type": "stream",
     "text": [
      "08/04/2021 05:19:50 PM INFO:Context impl SQLiteImpl.\n",
      "08/04/2021 05:19:50 PM INFO:Will assume non-transactional DDL.\n",
      "08/04/2021 05:19:50 PM INFO:Context impl SQLiteImpl.\n",
      "08/04/2021 05:19:50 PM INFO:Will assume non-transactional DDL.\n",
      "2021/08/04 17:19:50 WARNING mlflow.utils.autologging_utils: MLflow autologging encountered a warning: \"/usr/local/lib/python3.9/site-packages/mlflow/types/utils.py:139: DeprecationWarning: .. Warning:: ``mlflow.types.schema.column_types`` is deprecated since 1.14. This method will be removed in a near future release. Use ``mlflow.types.Schema.input_types`` instead.\"\n",
      "2021/08/04 17:19:50 WARNING mlflow.utils.autologging_utils: MLflow autologging encountered a warning: \"/usr/local/lib/python3.9/site-packages/mlflow/types/schema.py:366: DeprecationWarning: .. Warning:: ``mlflow.types.schema.columns`` is deprecated since 1.14. This method will be removed in a near future release. Use ``mlflow.types.Schema.inputs`` instead.\"\n",
      "2021/08/04 17:19:50 WARNING mlflow.utils.autologging_utils: MLflow autologging encountered a warning: \"/usr/local/lib/python3.9/site-packages/mlflow/models/signature.py:129: UserWarning: Hint: Inferred schema contains integer column(s). Integer columns in Python cannot represent missing values. If your input data contains missing values at inference time, it will be encoded as floats and will cause a schema enforcement error. The best way to avoid this problem is to infer the model schema based on a realistic data sample (training dataset) that includes missing values. Alternatively, you can declare integer columns as doubles (float64) whenever these columns may have missing values. See `Handling Integers With Missing Values <https://www.mlflow.org/docs/latest/models.html#handling-integers-with-missing-values>`_ for more details.\"\n",
      "08/04/2021 05:19:50 PM INFO:Context impl SQLiteImpl.\n",
      "08/04/2021 05:19:50 PM INFO:Will assume non-transactional DDL.\n",
      "08/04/2021 05:19:50 PM INFO:Context impl SQLiteImpl.\n",
      "08/04/2021 05:19:50 PM INFO:Will assume non-transactional DDL.\n",
      "08/04/2021 05:19:50 PM INFO:Context impl SQLiteImpl.\n",
      "08/04/2021 05:19:50 PM INFO:Will assume non-transactional DDL.\n",
      "08/04/2021 05:19:50 PM INFO:Context impl SQLiteImpl.\n",
      "08/04/2021 05:19:50 PM INFO:Will assume non-transactional DDL.\n",
      "08/04/2021 05:19:50 PM INFO:Context impl SQLiteImpl.\n",
      "08/04/2021 05:19:50 PM INFO:Will assume non-transactional DDL.\n"
     ]
    },
    {
     "name": "stdout",
     "output_type": "stream",
     "text": [
      "Model run id: {'b6b27a700fe741ce8abc237fdce1c21c'}\n"
     ]
    }
   ],
   "source": [
    "REPO_PATH = \"/Users/jules/git-repos/feast_workshops/module_1/feature_repo\"\n",
    "model_cls = DriverRankingTrainModel(REPO_PATH)\n",
    "run_id = model_cls.train_model()\n",
    "print (f\"Model run id: {run_id}\")"
   ]
  },
  {
   "cell_type": "markdown",
   "id": "6eac8e13-789e-4083-8e1e-8eb8ecedfb58",
   "metadata": {},
   "source": [
    "### Launch the MLflow ui, with Model Registry at the local SQLite database\n",
    " * Navigate and examine runs for the model\n",
    " * Register the model with the Model Registry"
   ]
  },
  {
   "cell_type": "code",
   "execution_count": 11,
   "id": "2b0ae189-cc55-431b-9889-9f007f1327a3",
   "metadata": {},
   "outputs": [
    {
     "name": "stdout",
     "output_type": "stream",
     "text": [
      "[2021-08-04 17:21:21 -0700] [53447] [INFO] Starting gunicorn 20.1.0\n",
      "[2021-08-04 17:21:21 -0700] [53447] [INFO] Listening at: http://127.0.0.1:5000 (53447)\n",
      "[2021-08-04 17:21:21 -0700] [53447] [INFO] Using worker: sync\n",
      "[2021-08-04 17:21:21 -0700] [53448] [INFO] Booting worker with pid: 53448\n",
      "^C\n",
      "[2021-08-04 17:25:13 -0700] [53447] [INFO] Handling signal: int\n",
      "[2021-08-04 17:25:13 -0700] [53448] [INFO] Worker exiting (pid: 53448)\n"
     ]
    }
   ],
   "source": [
    "!mlflow ui  --backend-store-uri sqlite:///mlruns.db"
   ]
  },
  {
   "cell_type": "markdown",
   "id": "8b8c1d9b-8b76-47e7-9f97-481da9383101",
   "metadata": {},
   "source": [
    "### Fetch the register model from the Model Registry\n",
    " * Use the model URI (either by stage or version)\n",
    " * Make the predicion"
   ]
  },
  {
   "cell_type": "code",
   "execution_count": 14,
   "id": "505800f6-4dd1-40c9-b9e8-c955b21b05bb",
   "metadata": {},
   "outputs": [
    {
     "name": "stderr",
     "output_type": "stream",
     "text": [
      "/usr/local/lib/python3.9/site-packages/ipykernel/ipkernel.py:283: DeprecationWarning: `should_run_async` will not call `transform_cell` automatically in the future. Please pass the result to `transformed_cell` argument and any exception that happen during thetransform in `preprocessing_exc_tuple` in IPython 7.17 and above.\n",
      "  and should_run_async(code)\n",
      "08/04/2021 05:25:21 PM INFO:Context impl SQLiteImpl.\n",
      "08/04/2021 05:25:21 PM INFO:Will assume non-transactional DDL.\n"
     ]
    },
    {
     "name": "stdout",
     "output_type": "stream",
     "text": [
      " Best predicted driver for completed trips: 1001\n"
     ]
    }
   ],
   "source": [
    "mlflow.set_tracking_uri(\"sqlite:///mlruns.db\")\n",
    "REPO_PATH = \"/Users/jules/git-repos/feast_workshops/module_1/feature_repo\"\n",
    "model_uri = \"models:/sklearn_feast_integration/production\"\n",
    "model = DriverRankingPredictModel(REPO_PATH, model_uri)\n",
    "drivers = [1001, 1002, 1003]\n",
    "best_driver = model.predict(drivers)\n",
    "print(f\" Best predicted driver for completed trips: {best_driver}\")"
   ]
  }
 ],
 "metadata": {
  "kernelspec": {
   "display_name": "Python 3",
   "language": "python",
   "name": "python3"
  },
  "language_info": {
   "codemirror_mode": {
    "name": "ipython",
    "version": 3
   },
   "file_extension": ".py",
   "mimetype": "text/x-python",
   "name": "python",
   "nbconvert_exporter": "python",
   "pygments_lexer": "ipython3",
   "version": "3.9.5"
  }
 },
 "nbformat": 4,
 "nbformat_minor": 5
}
