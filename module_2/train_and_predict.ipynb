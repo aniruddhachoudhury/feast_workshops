{
 "cells": [
  {
   "cell_type": "markdown",
   "id": "cb324f74-8c08-43e8-9db1-71e5bcbb50e1",
   "metadata": {},
   "source": [
    "### Import General Python libs, defined classes, and modules¶"
   ]
  },
  {
   "cell_type": "code",
   "execution_count": 1,
   "id": "41d65f9d-2109-4c22-a705-ab3488ac5358",
   "metadata": {},
   "outputs": [],
   "source": [
    "from pprint import pprint\n",
    "import mlflow\n",
    "from mlflow.tracking import MlflowClient\n",
    "from train_model import DriverRankingTrainModel\n",
    "from predict_model import DriverRankingPredictModel"
   ]
  },
  {
   "cell_type": "markdown",
   "id": "5c850031-25ce-4130-ba70-8052484c7c2b",
   "metadata": {},
   "source": [
    "### Train the model\n",
    "\n",
    " * Use the `DriverRankingTrainingModel` class, which fetches training data from the Feast data source\n",
    " * Use `mlflow.autolog` to automatically log the parameters and computed metrics during training\n",
    " * Use `mflow` Fluent APIs to log the Feast training set"
   ]
  },
  {
   "cell_type": "markdown",
   "id": "022489be-d36b-43ce-bc6a-cb4b76d1130e",
   "metadata": {},
   "source": [
    "### Define ElasticNet tuning parameters and run some experiments"
   ]
  },
  {
   "cell_type": "code",
   "execution_count": 2,
   "id": "34790d80-92e0-40e2-a033-2f33dfe176c6",
   "metadata": {},
   "outputs": [],
   "source": [
    "params_list = [{\"alpha\": 0.5, \"l1_ratio\": 0.15},\n",
    "               {\"alpha\": 0.75, \"l1_ratio\": 0.25},\n",
    "               {\"alpha\": 1.0, \"l1_ratio\": 0.5}]\n",
    "\n",
    "# Change this to your location for the Feast feature repo\n",
    "REPO_PATH = \"/Users/jules/git-repos/feast_workshops/module_1/feature_repo\"\n",
    "# define your feature service name\n",
    "FEATURE_SERVICE_NAME = \"driver_ranking_fv_svc\""
   ]
  },
  {
   "cell_type": "markdown",
   "id": "b75bb9f6-2896-4328-b834-17dfc2eaaa62",
   "metadata": {},
   "source": [
    "### Iterate and experiment MLflow runs tunning parameters"
   ]
  },
  {
   "cell_type": "code",
   "execution_count": 3,
   "id": "43018728-1fed-429b-b996-c876cf3bf6d0",
   "metadata": {},
   "outputs": [
    {
     "name": "stderr",
     "output_type": "stream",
     "text": [
      "2021/08/27 08:51:48 INFO mlflow.store.db.utils: Creating initial MLflow database tables...\n",
      "2021/08/27 08:51:48 INFO mlflow.store.db.utils: Updating database tables\n",
      "INFO  [alembic.runtime.migration] Context impl SQLiteImpl.\n",
      "INFO  [alembic.runtime.migration] Will assume non-transactional DDL.\n",
      "INFO  [alembic.runtime.migration] Running upgrade  -> 451aebb31d03, add metric step\n",
      "/Users/jules/miniconda3/lib/python3.9/contextlib.py:124: SADeprecationWarning: The Column.copy() method is deprecated and will be removed in a future release. (deprecated since: 1.4)\n",
      "  next(self.gen)\n",
      "/Users/jules/miniconda3/lib/python3.9/contextlib.py:124: SADeprecationWarning: The ColumnCollectionConstraint.copy() method is deprecated and will be removed in a future release. (deprecated since: 1.4)\n",
      "  next(self.gen)\n",
      "/Users/jules/miniconda3/lib/python3.9/contextlib.py:124: SADeprecationWarning: The ForeignKeyConstraint.copy() method is deprecated and will be removed in a future release. (deprecated since: 1.4)\n",
      "  next(self.gen)\n",
      "INFO  [alembic.runtime.migration] Running upgrade 451aebb31d03 -> 90e64c465722, migrate user column to tags\n",
      "INFO  [alembic.runtime.migration] Running upgrade 90e64c465722 -> 181f10493468, allow nulls for metric values\n",
      "INFO  [alembic.runtime.migration] Running upgrade 181f10493468 -> df50e92ffc5e, Add Experiment Tags Table\n",
      "INFO  [alembic.runtime.migration] Running upgrade df50e92ffc5e -> 7ac759974ad8, Update run tags with larger limit\n",
      "INFO  [alembic.runtime.migration] Running upgrade 7ac759974ad8 -> 89d4b8295536, create latest metrics table\n",
      "INFO  [89d4b8295536_create_latest_metrics_table_py] Migration complete!\n",
      "INFO  [alembic.runtime.migration] Running upgrade 89d4b8295536 -> 2b4d017a5e9b, add model registry tables to db\n",
      "INFO  [2b4d017a5e9b_add_model_registry_tables_to_db_py] Adding registered_models and model_versions tables to database.\n",
      "INFO  [2b4d017a5e9b_add_model_registry_tables_to_db_py] Migration complete!\n",
      "INFO  [alembic.runtime.migration] Running upgrade 2b4d017a5e9b -> cfd24bdc0731, Update run status constraint with killed\n",
      "/Users/jules/miniconda3/lib/python3.9/contextlib.py:124: SADeprecationWarning: The CheckConstraint.copy() method is deprecated and will be removed in a future release. (deprecated since: 1.4)\n",
      "  next(self.gen)\n",
      "INFO  [alembic.runtime.migration] Running upgrade cfd24bdc0731 -> 0a8213491aaa, drop_duplicate_killed_constraint\n",
      "WARNI [0a8213491aaa_drop_duplicate_killed_constraint_py] Failed to drop check constraint. Dropping check constraints may not be supported by your SQL database. Exception content: No support for ALTER of constraints in SQLite dialectPlease refer to the batch mode feature which allows for SQLite migrations using a copy-and-move strategy.\n",
      "INFO  [alembic.runtime.migration] Running upgrade 0a8213491aaa -> 728d730b5ebd, add registered model tags table\n",
      "INFO  [alembic.runtime.migration] Running upgrade 728d730b5ebd -> 27a6a02d2cf1, add model version tags table\n",
      "INFO  [alembic.runtime.migration] Running upgrade 27a6a02d2cf1 -> 84291f40a231, add run_link to model_version\n",
      "INFO  [alembic.runtime.migration] Running upgrade 84291f40a231 -> a8c4a736bde6, allow nulls for run_id\n",
      "INFO  [alembic.runtime.migration] Running upgrade a8c4a736bde6 -> 39d1c3be5f05, add_is_nan_constraint_for_metrics_tables_if_necessary\n",
      "INFO  [alembic.runtime.migration] Running upgrade 39d1c3be5f05 -> c48cb773bb87, reset_default_value_for_is_nan_in_metrics_table_for_mysql\n",
      "INFO  [alembic.runtime.migration] Context impl SQLiteImpl.\n",
      "INFO  [alembic.runtime.migration] Will assume non-transactional DDL.\n",
      "INFO  [alembic.runtime.migration] Context impl SQLiteImpl.\n",
      "INFO  [alembic.runtime.migration] Will assume non-transactional DDL.\n",
      "2021/08/27 08:51:48 WARNING mlflow.utils.autologging_utils: MLflow autologging encountered a warning: \"/Users/jules/miniconda3/lib/python3.9/site-packages/mlflow/types/utils.py:139: DeprecationWarning: .. Warning:: ``mlflow.types.schema.column_types`` is deprecated since 1.14. This method will be removed in a near future release. Use ``mlflow.types.Schema.input_types`` instead.\"\n",
      "2021/08/27 08:51:48 WARNING mlflow.utils.autologging_utils: MLflow autologging encountered a warning: \"/Users/jules/miniconda3/lib/python3.9/site-packages/mlflow/types/schema.py:366: DeprecationWarning: .. Warning:: ``mlflow.types.schema.columns`` is deprecated since 1.14. This method will be removed in a near future release. Use ``mlflow.types.Schema.inputs`` instead.\"\n",
      "2021/08/27 08:51:48 WARNING mlflow.utils.autologging_utils: MLflow autologging encountered a warning: \"/Users/jules/miniconda3/lib/python3.9/site-packages/mlflow/models/signature.py:129: UserWarning: Hint: Inferred schema contains integer column(s). Integer columns in Python cannot represent missing values. If your input data contains missing values at inference time, it will be encoded as floats and will cause a schema enforcement error. The best way to avoid this problem is to infer the model schema based on a realistic data sample (training dataset) that includes missing values. Alternatively, you can declare integer columns as doubles (float64) whenever these columns may have missing values. See `Handling Integers With Missing Values <https://www.mlflow.org/docs/latest/models.html#handling-integers-with-missing-values>`_ for more details.\"\n",
      "INFO  [alembic.runtime.migration] Context impl SQLiteImpl.\n",
      "INFO  [alembic.runtime.migration] Will assume non-transactional DDL.\n",
      "INFO  [alembic.runtime.migration] Context impl SQLiteImpl.\n",
      "INFO  [alembic.runtime.migration] Will assume non-transactional DDL.\n",
      "INFO  [alembic.runtime.migration] Context impl SQLiteImpl.\n",
      "INFO  [alembic.runtime.migration] Will assume non-transactional DDL.\n",
      "INFO  [alembic.runtime.migration] Context impl SQLiteImpl.\n",
      "INFO  [alembic.runtime.migration] Will assume non-transactional DDL.\n"
     ]
    },
    {
     "name": "stdout",
     "output_type": "stream",
     "text": [
      "\"ElasticNet params: {'alpha': 0.5, 'l1_ratio': 0.15}\"\n",
      "Model run id: {'62fb2746b80c40f485cfb9dcbcfb366a'}\n"
     ]
    },
    {
     "name": "stderr",
     "output_type": "stream",
     "text": [
      "INFO  [alembic.runtime.migration] Context impl SQLiteImpl.\n",
      "INFO  [alembic.runtime.migration] Will assume non-transactional DDL.\n",
      "INFO  [alembic.runtime.migration] Context impl SQLiteImpl.\n",
      "INFO  [alembic.runtime.migration] Will assume non-transactional DDL.\n",
      "2021/08/27 08:51:49 WARNING mlflow.utils.autologging_utils: MLflow autologging encountered a warning: \"/Users/jules/miniconda3/lib/python3.9/site-packages/mlflow/types/utils.py:139: DeprecationWarning: .. Warning:: ``mlflow.types.schema.column_types`` is deprecated since 1.14. This method will be removed in a near future release. Use ``mlflow.types.Schema.input_types`` instead.\"\n",
      "2021/08/27 08:51:49 WARNING mlflow.utils.autologging_utils: MLflow autologging encountered a warning: \"/Users/jules/miniconda3/lib/python3.9/site-packages/mlflow/types/schema.py:366: DeprecationWarning: .. Warning:: ``mlflow.types.schema.columns`` is deprecated since 1.14. This method will be removed in a near future release. Use ``mlflow.types.Schema.inputs`` instead.\"\n",
      "2021/08/27 08:51:49 WARNING mlflow.utils.autologging_utils: MLflow autologging encountered a warning: \"/Users/jules/miniconda3/lib/python3.9/site-packages/mlflow/models/signature.py:129: UserWarning: Hint: Inferred schema contains integer column(s). Integer columns in Python cannot represent missing values. If your input data contains missing values at inference time, it will be encoded as floats and will cause a schema enforcement error. The best way to avoid this problem is to infer the model schema based on a realistic data sample (training dataset) that includes missing values. Alternatively, you can declare integer columns as doubles (float64) whenever these columns may have missing values. See `Handling Integers With Missing Values <https://www.mlflow.org/docs/latest/models.html#handling-integers-with-missing-values>`_ for more details.\"\n",
      "INFO  [alembic.runtime.migration] Context impl SQLiteImpl.\n",
      "INFO  [alembic.runtime.migration] Will assume non-transactional DDL.\n",
      "INFO  [alembic.runtime.migration] Context impl SQLiteImpl.\n",
      "INFO  [alembic.runtime.migration] Will assume non-transactional DDL.\n",
      "INFO  [alembic.runtime.migration] Context impl SQLiteImpl.\n",
      "INFO  [alembic.runtime.migration] Will assume non-transactional DDL.\n",
      "INFO  [alembic.runtime.migration] Context impl SQLiteImpl.\n",
      "INFO  [alembic.runtime.migration] Will assume non-transactional DDL.\n"
     ]
    },
    {
     "name": "stdout",
     "output_type": "stream",
     "text": [
      "\"ElasticNet params: {'alpha': 0.75, 'l1_ratio': 0.25}\"\n",
      "Model run id: {'75052b557f0a4c8c9e24408c573a3056'}\n"
     ]
    },
    {
     "name": "stderr",
     "output_type": "stream",
     "text": [
      "INFO  [alembic.runtime.migration] Context impl SQLiteImpl.\n",
      "INFO  [alembic.runtime.migration] Will assume non-transactional DDL.\n",
      "INFO  [alembic.runtime.migration] Context impl SQLiteImpl.\n",
      "INFO  [alembic.runtime.migration] Will assume non-transactional DDL.\n",
      "2021/08/27 08:51:50 WARNING mlflow.utils.autologging_utils: MLflow autologging encountered a warning: \"/Users/jules/miniconda3/lib/python3.9/site-packages/mlflow/types/utils.py:139: DeprecationWarning: .. Warning:: ``mlflow.types.schema.column_types`` is deprecated since 1.14. This method will be removed in a near future release. Use ``mlflow.types.Schema.input_types`` instead.\"\n",
      "2021/08/27 08:51:50 WARNING mlflow.utils.autologging_utils: MLflow autologging encountered a warning: \"/Users/jules/miniconda3/lib/python3.9/site-packages/mlflow/types/schema.py:366: DeprecationWarning: .. Warning:: ``mlflow.types.schema.columns`` is deprecated since 1.14. This method will be removed in a near future release. Use ``mlflow.types.Schema.inputs`` instead.\"\n",
      "2021/08/27 08:51:50 WARNING mlflow.utils.autologging_utils: MLflow autologging encountered a warning: \"/Users/jules/miniconda3/lib/python3.9/site-packages/mlflow/models/signature.py:129: UserWarning: Hint: Inferred schema contains integer column(s). Integer columns in Python cannot represent missing values. If your input data contains missing values at inference time, it will be encoded as floats and will cause a schema enforcement error. The best way to avoid this problem is to infer the model schema based on a realistic data sample (training dataset) that includes missing values. Alternatively, you can declare integer columns as doubles (float64) whenever these columns may have missing values. See `Handling Integers With Missing Values <https://www.mlflow.org/docs/latest/models.html#handling-integers-with-missing-values>`_ for more details.\"\n",
      "INFO  [alembic.runtime.migration] Context impl SQLiteImpl.\n",
      "INFO  [alembic.runtime.migration] Will assume non-transactional DDL.\n",
      "INFO  [alembic.runtime.migration] Context impl SQLiteImpl.\n",
      "INFO  [alembic.runtime.migration] Will assume non-transactional DDL.\n",
      "INFO  [alembic.runtime.migration] Context impl SQLiteImpl.\n",
      "INFO  [alembic.runtime.migration] Will assume non-transactional DDL.\n",
      "INFO  [alembic.runtime.migration] Context impl SQLiteImpl.\n",
      "INFO  [alembic.runtime.migration] Will assume non-transactional DDL.\n"
     ]
    },
    {
     "name": "stdout",
     "output_type": "stream",
     "text": [
      "\"ElasticNet params: {'alpha': 1.0, 'l1_ratio': 0.5}\"\n",
      "Model run id: {'e7270456bc7145d4a58719ea92f17b76'}\n"
     ]
    }
   ],
   "source": [
    "# iterate over tuning parameters\n",
    "for params in params_list:\n",
    "    model_cls = DriverRankingTrainModel(REPO_PATH, FEATURE_SERVICE_NAME, params)\n",
    "    run_id = model_cls.train_model()\n",
    "    pprint(f\"ElasticNet params: {params}\")\n",
    "    print(f\"Model run id: {run_id}\")"
   ]
  },
  {
   "cell_type": "markdown",
   "id": "6eac8e13-789e-4083-8e1e-8eb8ecedfb58",
   "metadata": {},
   "source": [
    "### Launch the MLflow ui, with Model Registry at the local SQLite database\n",
    " * Navigate and examine runs for the model\n",
    " * Register the best model with lowest RMSE with the Model Registry"
   ]
  },
  {
   "cell_type": "code",
   "execution_count": 6,
   "id": "2b0ae189-cc55-431b-9889-9f007f1327a3",
   "metadata": {},
   "outputs": [
    {
     "name": "stdout",
     "output_type": "stream",
     "text": [
      "[2021-08-27 08:55:14 -0700] [83866] [INFO] Starting gunicorn 20.1.0\n",
      "[2021-08-27 08:55:14 -0700] [83866] [INFO] Listening at: http://127.0.0.1:5000 (83866)\n",
      "[2021-08-27 08:55:14 -0700] [83866] [INFO] Using worker: sync\n",
      "[2021-08-27 08:55:14 -0700] [83867] [INFO] Booting worker with pid: 83867\n",
      "^C\n",
      "[2021-08-27 08:57:51 -0700] [83866] [INFO] Handling signal: int\n",
      "[2021-08-27 08:57:51 -0700] [83867] [INFO] Worker exiting (pid: 83867)\n"
     ]
    }
   ],
   "source": [
    "!mlflow ui  --backend-store-uri sqlite:///mlruns.db"
   ]
  },
  {
   "cell_type": "markdown",
   "id": "8b8c1d9b-8b76-47e7-9f97-481da9383101",
   "metadata": {},
   "source": [
    "### CI/CD Intergration: Fetch the registered model from the Model Registry\n",
    " * Use the model URI (either by stage or version)\n",
    " * Make the predicion"
   ]
  },
  {
   "cell_type": "code",
   "execution_count": 7,
   "id": "505800f6-4dd1-40c9-b9e8-c955b21b05bb",
   "metadata": {},
   "outputs": [
    {
     "name": "stderr",
     "output_type": "stream",
     "text": [
      "INFO  [alembic.runtime.migration] Context impl SQLiteImpl.\n",
      "INFO  [alembic.runtime.migration] Will assume non-transactional DDL.\n"
     ]
    },
    {
     "name": "stdout",
     "output_type": "stream",
     "text": [
      " Best predicted driver for completed trips: 1001\n"
     ]
    }
   ],
   "source": [
    "mlflow.set_tracking_uri(\"sqlite:///mlruns.db\")\n",
    "REPO_PATH = \"/Users/jules/git-repos/feast_workshops/module_1/feature_repo\"\n",
    "model_uri = \"models:/sklearn_feast_integration/staging\"\n",
    "model = DriverRankingPredictModel(REPO_PATH, model_uri, FEATURE_SERVICE_NAME)\n",
    "drivers = [1001, 1002, 1003]\n",
    "best_driver = model(drivers)\n",
    "print(f\" Best predicted driver for completed trips: {best_driver}\")"
   ]
  },
  {
   "cell_type": "markdown",
   "id": "1724d4a7-f352-4448-8dec-f1686ea9124d",
   "metadata": {},
   "source": [
    "### CI/CD Intergration: Transition the model to production "
   ]
  },
  {
   "cell_type": "code",
   "execution_count": 8,
   "id": "e88e435d-4af0-49d5-956f-af2e2830d45f",
   "metadata": {},
   "outputs": [
    {
     "name": "stderr",
     "output_type": "stream",
     "text": [
      "INFO  [alembic.runtime.migration] Context impl SQLiteImpl.\n",
      "INFO  [alembic.runtime.migration] Will assume non-transactional DDL.\n"
     ]
    },
    {
     "data": {
      "text/plain": [
       "<ModelVersion: creation_timestamp=1630079837363, current_stage='Production', description='', last_updated_timestamp=1630079901057, name='sklearn_feast_integration', run_id='62fb2746b80c40f485cfb9dcbcfb366a', run_link='', source='./mlruns/0/62fb2746b80c40f485cfb9dcbcfb366a/artifacts/model', status='READY', status_message=None, tags={}, user_id=None, version=1>"
      ]
     },
     "execution_count": 8,
     "metadata": {},
     "output_type": "execute_result"
    }
   ],
   "source": [
    "client = MlflowClient()\n",
    "client.transition_model_version_stage(\n",
    "    name=\"sklearn_feast_integration\",\n",
    "    version=1,\n",
    "    stage=\"Production\"\n",
    ")"
   ]
  },
  {
   "cell_type": "code",
   "execution_count": null,
   "id": "5e8fe5ab-6cc7-4d83-98b6-7a4174089a14",
   "metadata": {},
   "outputs": [],
   "source": []
  }
 ],
 "metadata": {
  "kernelspec": {
   "display_name": "Python 3 (ipykernel)",
   "language": "python",
   "name": "python3"
  },
  "language_info": {
   "codemirror_mode": {
    "name": "ipython",
    "version": 3
   },
   "file_extension": ".py",
   "mimetype": "text/x-python",
   "name": "python",
   "nbconvert_exporter": "python",
   "pygments_lexer": "ipython3",
   "version": "3.9.1"
  }
 },
 "nbformat": 4,
 "nbformat_minor": 5
}
