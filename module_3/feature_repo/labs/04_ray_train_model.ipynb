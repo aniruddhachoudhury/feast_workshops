{
 "cells": [
  {
   "cell_type": "markdown",
   "id": "2f3cf39b-f14c-4727-be66-736485fbbe59",
   "metadata": {},
   "source": [
    "## A Credit Scoring Use Case for Loan Approval: Using Distributed Training with Ray and XGBoost and Feast\n",
    "![](images/feast_ray_xgboost.png)"
   ]
  },
  {
   "cell_type": "code",
   "execution_count": 1,
   "id": "d6369a05-35f7-4712-9568-d16536b832ec",
   "metadata": {},
   "outputs": [],
   "source": [
    "import sys\n",
    "sys.path.insert(0, \"../\")"
   ]
  },
  {
   "cell_type": "markdown",
   "id": "82b6b301-b734-42dd-9a45-e9162d84c5bb",
   "metadata": {},
   "source": [
    "### Import General Python libs and modules"
   ]
  },
  {
   "cell_type": "code",
   "execution_count": 2,
   "id": "71368eb6-519a-47dc-a471-21ae750b3bc2",
   "metadata": {},
   "outputs": [],
   "source": [
    "import pandas as pd\n",
    "import numpy as np\n",
    "from pathlib import Path\n",
    "\n",
    "from sklearn.model_selection import train_test_split\n",
    "from sklearn.metrics import accuracy_score\n",
    "from sklearn.preprocessing import OrdinalEncoder\n",
    "from sklearn.metrics import precision_score\n",
    "\n",
    "from xgboost_ray import RayXGBClassifier, RayParams\n",
    "import xgboost as xgb"
   ]
  },
  {
   "cell_type": "markdown",
   "id": "53f63be4-26c9-4e3d-9672-be6420454379",
   "metadata": {},
   "source": [
    "### Import Feast related modules and definitions from feast_repo directories and Ray modules"
   ]
  },
  {
   "cell_type": "code",
   "execution_count": 3,
   "id": "57dd1afe-4917-480d-a068-86d83130d5f9",
   "metadata": {},
   "outputs": [],
   "source": [
    "from feast import FeatureStore\n",
    "from utils.data_fetcher import DataFetcher\n",
    "from queries.ray_train_model import CreditRayXGBClassifier"
   ]
  },
  {
   "cell_type": "markdown",
   "id": "f51f10c5-e617-44b3-91ce-105f4f28e4ad",
   "metadata": {},
   "source": [
    "### Create instances of \n",
    " * feature store\n",
    " * data fetcher utility class\n",
    " * RayXGBoost classifier for distributed training"
   ]
  },
  {
   "cell_type": "code",
   "execution_count": 4,
   "id": "69cf2b84-00cd-4a36-840a-c6df66072fde",
   "metadata": {},
   "outputs": [],
   "source": [
    "# Change this path to your location\n",
    "REPO_PATH = Path(\"/Users/jules/git-repos/feast_workshops/module_3/feature_repo\")\n",
    "store = FeatureStore(repo_path=REPO_PATH)\n",
    "fetcher = DataFetcher(store, REPO_PATH)\n",
    "xgboost_cls = CreditRayXGBClassifier(store, fetcher)"
   ]
  },
  {
   "cell_type": "markdown",
   "id": "59f6cc60-fcf8-4202-95e7-1c54cddd0daf",
   "metadata": {},
   "source": [
    "### Train the RayXGBoost classifier for distributed training on localhost using a four cores or processes"
   ]
  },
  {
   "cell_type": "code",
   "execution_count": 5,
   "id": "c7785fe4-6c4c-4397-b660-08178d0d6adb",
   "metadata": {},
   "outputs": [
    {
     "name": "stderr",
     "output_type": "stream",
     "text": [
      "/Users/jules/miniconda3/lib/python3.9/site-packages/xgboost_ray/sklearn.py:751: UserWarning: The use of label encoder in XGBClassifier is deprecated and will be removed in a future release. To remove this warning, do the following: 1) Pass option use_label_encoder=False when constructing XGBClassifier object; and 2) Encode your labels (y) as integers starting with 0, i.e. 0, 1, 2, ..., [num_class - 1].\n",
      "  warnings.warn(label_encoder_deprecation_msg, UserWarning)\n",
      "2021-09-16 07:12:56,045\tINFO services.py:1263 -- View the Ray dashboard at \u001b[1m\u001b[32mhttp://127.0.0.1:8265\u001b[39m\u001b[22m\n",
      "2021-09-16 07:12:58,470\tINFO main.py:913 -- [RayXGBoost] Created 4 new actors (4 total actors). Waiting until actors are ready for training.\n",
      "2021-09-16 07:12:59,849\tINFO main.py:958 -- [RayXGBoost] Starting XGBoost training.\n",
      "09/16/2021 07:12:59 AM INFO:start listen on 10.0.0.233:9091\n",
      "09/16/2021 07:12:59 AM INFO:@tracker All of 4 nodes getting started\n",
      "\u001b[2m\u001b[36m(pid=77791)\u001b[0m [07:12:59] task [xgboost.ray]:140217727747408 got new rank 3\n",
      "\u001b[2m\u001b[36m(pid=77791)\u001b[0m [07:12:59] WARNING: /Users/travis/build/dmlc/xgboost/src/learner.cc:1095: Starting in XGBoost 1.3.0, the default evaluation metric used with the objective 'binary:logistic' was changed from 'error' to 'logloss'. Explicitly set eval_metric if you'd like to restore the old behavior.\n",
      "\u001b[2m\u001b[36m(pid=77792)\u001b[0m [07:12:59] task [xgboost.ray]:140233380894320 got new rank 2\n",
      "\u001b[2m\u001b[36m(pid=77792)\u001b[0m [07:12:59] WARNING: /Users/travis/build/dmlc/xgboost/src/learner.cc:1095: Starting in XGBoost 1.3.0, the default evaluation metric used with the objective 'binary:logistic' was changed from 'error' to 'logloss'. Explicitly set eval_metric if you'd like to restore the old behavior.\n",
      "\u001b[2m\u001b[36m(pid=77790)\u001b[0m [07:12:59] task [xgboost.ray]:140517386765648 got new rank 1\n",
      "\u001b[2m\u001b[36m(pid=77790)\u001b[0m [07:12:59] WARNING: /Users/travis/build/dmlc/xgboost/src/learner.cc:1095: Starting in XGBoost 1.3.0, the default evaluation metric used with the objective 'binary:logistic' was changed from 'error' to 'logloss'. Explicitly set eval_metric if you'd like to restore the old behavior.\n",
      "\u001b[2m\u001b[36m(pid=77793)\u001b[0m [07:12:59] task [xgboost.ray]:140209683077152 got new rank 0\n",
      "\u001b[2m\u001b[36m(pid=77793)\u001b[0m [07:12:59] WARNING: /Users/travis/build/dmlc/xgboost/src/learner.cc:1095: Starting in XGBoost 1.3.0, the default evaluation metric used with the objective 'binary:logistic' was changed from 'error' to 'logloss'. Explicitly set eval_metric if you'd like to restore the old behavior.\n",
      "09/16/2021 07:13:02 AM INFO:@tracker All nodes finishes job\n",
      "09/16/2021 07:13:02 AM INFO:@tracker 2.744385004043579 secs between node start and job finish\n",
      "2021-09-16 07:13:02,831\tINFO main.py:1436 -- [RayXGBoost] Finished XGBoost training on training data with total N=21,478 in 4.46 seconds (2.97 pure XGBoost training time).\n",
      "2021-09-16 07:13:02,855\tINFO main.py:1476 -- [RayXGBoost] Created 4 remote actors.\n",
      "2021-09-16 07:13:03,996\tINFO main.py:1493 -- [RayXGBoost] Starting XGBoost prediction.\n"
     ]
    },
    {
     "name": "stdout",
     "output_type": "stream",
     "text": [
      "[0 0 0 ... 0 0 0]\n"
     ]
    },
    {
     "name": "stderr",
     "output_type": "stream",
     "text": [
      "2021-09-16 07:13:04,834\tINFO main.py:913 -- [RayXGBoost] Created 4 new actors (4 total actors). Waiting until actors are ready for training.\n",
      "2021-09-16 07:13:06,383\tINFO main.py:958 -- [RayXGBoost] Starting XGBoost training.\n",
      "09/16/2021 07:13:06 AM INFO:start listen on 10.0.0.233:9091\n",
      "09/16/2021 07:13:06 AM INFO:@tracker All of 4 nodes getting started\n",
      "\u001b[2m\u001b[36m(pid=77797)\u001b[0m [07:13:06] task [xgboost.ray]:140400867833312 got new rank 0\n",
      "\u001b[2m\u001b[36m(pid=77797)\u001b[0m [07:13:06] WARNING: /Users/travis/build/dmlc/xgboost/src/learner.cc:1095: Starting in XGBoost 1.3.0, the default evaluation metric used with the objective 'binary:logistic' was changed from 'error' to 'logloss'. Explicitly set eval_metric if you'd like to restore the old behavior.\n",
      "\u001b[2m\u001b[36m(pid=77800)\u001b[0m [07:13:06] task [xgboost.ray]:140346719430208 got new rank 3\n",
      "\u001b[2m\u001b[36m(pid=77800)\u001b[0m [07:13:06] WARNING: /Users/travis/build/dmlc/xgboost/src/learner.cc:1095: Starting in XGBoost 1.3.0, the default evaluation metric used with the objective 'binary:logistic' was changed from 'error' to 'logloss'. Explicitly set eval_metric if you'd like to restore the old behavior.\n",
      "\u001b[2m\u001b[36m(pid=77799)\u001b[0m [07:13:06] task [xgboost.ray]:140398259041856 got new rank 2\n",
      "\u001b[2m\u001b[36m(pid=77799)\u001b[0m [07:13:06] WARNING: /Users/travis/build/dmlc/xgboost/src/learner.cc:1095: Starting in XGBoost 1.3.0, the default evaluation metric used with the objective 'binary:logistic' was changed from 'error' to 'logloss'. Explicitly set eval_metric if you'd like to restore the old behavior.\n",
      "\u001b[2m\u001b[36m(pid=77798)\u001b[0m [07:13:06] task [xgboost.ray]:140547577308736 got new rank 1\n",
      "\u001b[2m\u001b[36m(pid=77798)\u001b[0m [07:13:06] WARNING: /Users/travis/build/dmlc/xgboost/src/learner.cc:1095: Starting in XGBoost 1.3.0, the default evaluation metric used with the objective 'binary:logistic' was changed from 'error' to 'logloss'. Explicitly set eval_metric if you'd like to restore the old behavior.\n",
      "09/16/2021 07:13:08 AM INFO:@tracker All nodes finishes job\n",
      "09/16/2021 07:13:08 AM INFO:@tracker 2.3352370262145996 secs between node start and job finish\n",
      "2021-09-16 07:13:08,890\tINFO main.py:1436 -- [RayXGBoost] Finished XGBoost training on training data with total N=21,478 in 4.81 seconds (2.50 pure XGBoost training time).\n",
      "2021-09-16 07:13:08,908\tINFO main.py:1476 -- [RayXGBoost] Created 4 remote actors.\n",
      "2021-09-16 07:13:10,547\tINFO main.py:1493 -- [RayXGBoost] Starting XGBoost prediction.\n"
     ]
    },
    {
     "name": "stdout",
     "output_type": "stream",
     "text": [
      "[0 0 0 ... 0 0 0]\n"
     ]
    },
    {
     "name": "stderr",
     "output_type": "stream",
     "text": [
      "2021-09-16 07:13:11,354\tINFO main.py:913 -- [RayXGBoost] Created 4 new actors (4 total actors). Waiting until actors are ready for training.\n",
      "2021-09-16 07:13:13,016\tINFO main.py:958 -- [RayXGBoost] Starting XGBoost training.\n",
      "09/16/2021 07:13:13 AM INFO:start listen on 10.0.0.233:9091\n",
      "09/16/2021 07:13:13 AM INFO:@tracker All of 4 nodes getting started\n",
      "\u001b[2m\u001b[36m(pid=77810)\u001b[0m [07:13:13] task [xgboost.ray]:140355695187472 got new rank 0\n",
      "\u001b[2m\u001b[36m(pid=77810)\u001b[0m [07:13:13] WARNING: /Users/travis/build/dmlc/xgboost/src/learner.cc:1095: Starting in XGBoost 1.3.0, the default evaluation metric used with the objective 'binary:logistic' was changed from 'error' to 'logloss'. Explicitly set eval_metric if you'd like to restore the old behavior.\n",
      "\u001b[2m\u001b[36m(pid=77813)\u001b[0m [07:13:13] task [xgboost.ray]:140462473774944 got new rank 3\n",
      "\u001b[2m\u001b[36m(pid=77813)\u001b[0m [07:13:13] WARNING: /Users/travis/build/dmlc/xgboost/src/learner.cc:1095: Starting in XGBoost 1.3.0, the default evaluation metric used with the objective 'binary:logistic' was changed from 'error' to 'logloss'. Explicitly set eval_metric if you'd like to restore the old behavior.\n",
      "\u001b[2m\u001b[36m(pid=77811)\u001b[0m [07:13:13] task [xgboost.ray]:140574160742000 got new rank 1\n",
      "\u001b[2m\u001b[36m(pid=77811)\u001b[0m [07:13:13] WARNING: /Users/travis/build/dmlc/xgboost/src/learner.cc:1095: Starting in XGBoost 1.3.0, the default evaluation metric used with the objective 'binary:logistic' was changed from 'error' to 'logloss'. Explicitly set eval_metric if you'd like to restore the old behavior.\n",
      "\u001b[2m\u001b[36m(pid=77812)\u001b[0m [07:13:13] task [xgboost.ray]:140362565453424 got new rank 2\n",
      "\u001b[2m\u001b[36m(pid=77812)\u001b[0m [07:13:13] WARNING: /Users/travis/build/dmlc/xgboost/src/learner.cc:1095: Starting in XGBoost 1.3.0, the default evaluation metric used with the objective 'binary:logistic' was changed from 'error' to 'logloss'. Explicitly set eval_metric if you'd like to restore the old behavior.\n",
      "09/16/2021 07:13:15 AM INFO:@tracker All nodes finishes job\n",
      "09/16/2021 07:13:15 AM INFO:@tracker 2.303541898727417 secs between node start and job finish\n",
      "2021-09-16 07:13:15,555\tINFO main.py:1436 -- [RayXGBoost] Finished XGBoost training on training data with total N=21,478 in 4.94 seconds (2.53 pure XGBoost training time).\n",
      "2021-09-16 07:13:15,575\tINFO main.py:1476 -- [RayXGBoost] Created 4 remote actors.\n",
      "2021-09-16 07:13:17,116\tINFO main.py:1493 -- [RayXGBoost] Starting XGBoost prediction.\n"
     ]
    },
    {
     "name": "stdout",
     "output_type": "stream",
     "text": [
      "[0 0 0 ... 0 0 0]\n"
     ]
    },
    {
     "name": "stderr",
     "output_type": "stream",
     "text": [
      "2021-09-16 07:13:17,909\tINFO main.py:913 -- [RayXGBoost] Created 4 new actors (4 total actors). Waiting until actors are ready for training.\n",
      "2021-09-16 07:13:19,354\tINFO main.py:958 -- [RayXGBoost] Starting XGBoost training.\n",
      "09/16/2021 07:13:19 AM INFO:start listen on 10.0.0.233:9091\n",
      "09/16/2021 07:13:19 AM INFO:@tracker All of 4 nodes getting started\n",
      "\u001b[2m\u001b[36m(pid=77822)\u001b[0m [07:13:19] task [xgboost.ray]:140577456391600 got new rank 0\n",
      "\u001b[2m\u001b[36m(pid=77822)\u001b[0m [07:13:19] WARNING: /Users/travis/build/dmlc/xgboost/src/learner.cc:1095: Starting in XGBoost 1.3.0, the default evaluation metric used with the objective 'binary:logistic' was changed from 'error' to 'logloss'. Explicitly set eval_metric if you'd like to restore the old behavior.\n",
      "\u001b[2m\u001b[36m(pid=77823)\u001b[0m [07:13:19] task [xgboost.ray]:140360879404608 got new rank 1\n",
      "\u001b[2m\u001b[36m(pid=77823)\u001b[0m [07:13:19] WARNING: /Users/travis/build/dmlc/xgboost/src/learner.cc:1095: Starting in XGBoost 1.3.0, the default evaluation metric used with the objective 'binary:logistic' was changed from 'error' to 'logloss'. Explicitly set eval_metric if you'd like to restore the old behavior.\n",
      "\u001b[2m\u001b[36m(pid=77824)\u001b[0m [07:13:19] task [xgboost.ray]:140631547278912 got new rank 2\n",
      "\u001b[2m\u001b[36m(pid=77824)\u001b[0m [07:13:19] WARNING: /Users/travis/build/dmlc/xgboost/src/learner.cc:1095: Starting in XGBoost 1.3.0, the default evaluation metric used with the objective 'binary:logistic' was changed from 'error' to 'logloss'. Explicitly set eval_metric if you'd like to restore the old behavior.\n",
      "\u001b[2m\u001b[36m(pid=77825)\u001b[0m [07:13:19] task [xgboost.ray]:140519281489472 got new rank 3\n",
      "\u001b[2m\u001b[36m(pid=77825)\u001b[0m [07:13:19] WARNING: /Users/travis/build/dmlc/xgboost/src/learner.cc:1095: Starting in XGBoost 1.3.0, the default evaluation metric used with the objective 'binary:logistic' was changed from 'error' to 'logloss'. Explicitly set eval_metric if you'd like to restore the old behavior.\n",
      "09/16/2021 07:13:21 AM INFO:@tracker All nodes finishes job\n",
      "09/16/2021 07:13:21 AM INFO:@tracker 2.261259078979492 secs between node start and job finish\n",
      "2021-09-16 07:13:21,755\tINFO main.py:1436 -- [RayXGBoost] Finished XGBoost training on training data with total N=21,478 in 4.57 seconds (2.39 pure XGBoost training time).\n",
      "2021-09-16 07:13:21,775\tINFO main.py:1476 -- [RayXGBoost] Created 4 remote actors.\n",
      "2021-09-16 07:13:23,302\tINFO main.py:1493 -- [RayXGBoost] Starting XGBoost prediction.\n"
     ]
    },
    {
     "name": "stdout",
     "output_type": "stream",
     "text": [
      "[0 0 0 ... 0 0 0]\n"
     ]
    },
    {
     "name": "stderr",
     "output_type": "stream",
     "text": [
      "2021-09-16 07:13:24,067\tINFO main.py:913 -- [RayXGBoost] Created 4 new actors (4 total actors). Waiting until actors are ready for training.\n",
      "2021-09-16 07:13:25,520\tINFO main.py:958 -- [RayXGBoost] Starting XGBoost training.\n",
      "09/16/2021 07:13:25 AM INFO:start listen on 10.0.0.233:9091\n",
      "09/16/2021 07:13:25 AM INFO:@tracker All of 4 nodes getting started\n",
      "\u001b[2m\u001b[36m(pid=77833)\u001b[0m [07:13:25] task [xgboost.ray]:140438759175648 got new rank 0\n",
      "\u001b[2m\u001b[36m(pid=77833)\u001b[0m [07:13:25] WARNING: /Users/travis/build/dmlc/xgboost/src/learner.cc:1095: Starting in XGBoost 1.3.0, the default evaluation metric used with the objective 'binary:logistic' was changed from 'error' to 'logloss'. Explicitly set eval_metric if you'd like to restore the old behavior.\n",
      "\u001b[2m\u001b[36m(pid=77834)\u001b[0m [07:13:25] task [xgboost.ray]:140410473834048 got new rank 1\n",
      "\u001b[2m\u001b[36m(pid=77834)\u001b[0m [07:13:25] WARNING: /Users/travis/build/dmlc/xgboost/src/learner.cc:1095: Starting in XGBoost 1.3.0, the default evaluation metric used with the objective 'binary:logistic' was changed from 'error' to 'logloss'. Explicitly set eval_metric if you'd like to restore the old behavior.\n",
      "\u001b[2m\u001b[36m(pid=77835)\u001b[0m [07:13:25] task [xgboost.ray]:140256382514752 got new rank 2\n",
      "\u001b[2m\u001b[36m(pid=77835)\u001b[0m [07:13:25] WARNING: /Users/travis/build/dmlc/xgboost/src/learner.cc:1095: Starting in XGBoost 1.3.0, the default evaluation metric used with the objective 'binary:logistic' was changed from 'error' to 'logloss'. Explicitly set eval_metric if you'd like to restore the old behavior.\n",
      "\u001b[2m\u001b[36m(pid=77836)\u001b[0m [07:13:25] task [xgboost.ray]:140471422379776 got new rank 3\n",
      "\u001b[2m\u001b[36m(pid=77836)\u001b[0m [07:13:25] WARNING: /Users/travis/build/dmlc/xgboost/src/learner.cc:1095: Starting in XGBoost 1.3.0, the default evaluation metric used with the objective 'binary:logistic' was changed from 'error' to 'logloss'. Explicitly set eval_metric if you'd like to restore the old behavior.\n",
      "09/16/2021 07:13:27 AM INFO:@tracker All nodes finishes job\n",
      "09/16/2021 07:13:27 AM INFO:@tracker 2.3327929973602295 secs between node start and job finish\n",
      "2021-09-16 07:13:28,047\tINFO main.py:1436 -- [RayXGBoost] Finished XGBoost training on training data with total N=21,478 in 4.68 seconds (2.52 pure XGBoost training time).\n",
      "2021-09-16 07:13:28,070\tINFO main.py:1476 -- [RayXGBoost] Created 4 remote actors.\n",
      "2021-09-16 07:13:29,648\tINFO main.py:1493 -- [RayXGBoost] Starting XGBoost prediction.\n"
     ]
    },
    {
     "name": "stdout",
     "output_type": "stream",
     "text": [
      "[0 0 0 ... 0 0 0]\n"
     ]
    },
    {
     "name": "stderr",
     "output_type": "stream",
     "text": [
      "2021-09-16 07:13:30,455\tINFO main.py:913 -- [RayXGBoost] Created 4 new actors (4 total actors). Waiting until actors are ready for training.\n",
      "2021-09-16 07:13:31,908\tINFO main.py:958 -- [RayXGBoost] Starting XGBoost training.\n",
      "09/16/2021 07:13:31 AM INFO:start listen on 10.0.0.233:9091\n",
      "09/16/2021 07:13:31 AM INFO:@tracker All of 4 nodes getting started\n",
      "\u001b[2m\u001b[36m(pid=77845)\u001b[0m [07:13:31] task [xgboost.ray]:140451309700576 got new rank 0\n",
      "\u001b[2m\u001b[36m(pid=77848)\u001b[0m [07:13:31] task [xgboost.ray]:140682473424448 got new rank 3\n",
      "\u001b[2m\u001b[36m(pid=77847)\u001b[0m [07:13:31] task [xgboost.ray]:140423970125376 got new rank 2\n",
      "\u001b[2m\u001b[36m(pid=77846)\u001b[0m [07:13:31] task [xgboost.ray]:140289811117632 got new rank 1\n",
      "\u001b[2m\u001b[36m(pid=77845)\u001b[0m [07:13:31] WARNING: /Users/travis/build/dmlc/xgboost/src/learner.cc:1095: Starting in XGBoost 1.3.0, the default evaluation metric used with the objective 'binary:logistic' was changed from 'error' to 'logloss'. Explicitly set eval_metric if you'd like to restore the old behavior.\n",
      "\u001b[2m\u001b[36m(pid=77848)\u001b[0m [07:13:31] WARNING: /Users/travis/build/dmlc/xgboost/src/learner.cc:1095: Starting in XGBoost 1.3.0, the default evaluation metric used with the objective 'binary:logistic' was changed from 'error' to 'logloss'. Explicitly set eval_metric if you'd like to restore the old behavior.\n",
      "\u001b[2m\u001b[36m(pid=77847)\u001b[0m [07:13:31] WARNING: /Users/travis/build/dmlc/xgboost/src/learner.cc:1095: Starting in XGBoost 1.3.0, the default evaluation metric used with the objective 'binary:logistic' was changed from 'error' to 'logloss'. Explicitly set eval_metric if you'd like to restore the old behavior.\n",
      "\u001b[2m\u001b[36m(pid=77846)\u001b[0m [07:13:31] WARNING: /Users/travis/build/dmlc/xgboost/src/learner.cc:1095: Starting in XGBoost 1.3.0, the default evaluation metric used with the objective 'binary:logistic' was changed from 'error' to 'logloss'. Explicitly set eval_metric if you'd like to restore the old behavior.\n",
      "09/16/2021 07:13:34 AM INFO:@tracker All nodes finishes job\n",
      "09/16/2021 07:13:34 AM INFO:@tracker 2.5438718795776367 secs between node start and job finish\n",
      "2021-09-16 07:13:34,635\tINFO main.py:1436 -- [RayXGBoost] Finished XGBoost training on training data with total N=21,478 in 4.92 seconds (2.72 pure XGBoost training time).\n",
      "2021-09-16 07:13:34,654\tINFO main.py:1476 -- [RayXGBoost] Created 4 remote actors.\n",
      "2021-09-16 07:13:36,180\tINFO main.py:1493 -- [RayXGBoost] Starting XGBoost prediction.\n"
     ]
    },
    {
     "name": "stdout",
     "output_type": "stream",
     "text": [
      "[0 0 0 ... 0 0 0]\n"
     ]
    },
    {
     "name": "stderr",
     "output_type": "stream",
     "text": [
      "2021-09-16 07:13:36,972\tINFO main.py:913 -- [RayXGBoost] Created 4 new actors (4 total actors). Waiting until actors are ready for training.\n",
      "2021-09-16 07:13:38,526\tINFO main.py:958 -- [RayXGBoost] Starting XGBoost training.\n",
      "09/16/2021 07:13:38 AM INFO:start listen on 10.0.0.233:9091\n",
      "09/16/2021 07:13:38 AM INFO:@tracker All of 4 nodes getting started\n",
      "\u001b[2m\u001b[36m(pid=77970)\u001b[0m [07:13:38] task [xgboost.ray]:140403318474352 got new rank 0\n",
      "\u001b[2m\u001b[36m(pid=77970)\u001b[0m [07:13:38] WARNING: /Users/travis/build/dmlc/xgboost/src/learner.cc:1095: Starting in XGBoost 1.3.0, the default evaluation metric used with the objective 'binary:logistic' was changed from 'error' to 'logloss'. Explicitly set eval_metric if you'd like to restore the old behavior.\n",
      "\u001b[2m\u001b[36m(pid=77971)\u001b[0m [07:13:38] task [xgboost.ray]:140714241070656 got new rank 1\n",
      "\u001b[2m\u001b[36m(pid=77971)\u001b[0m [07:13:38] WARNING: /Users/travis/build/dmlc/xgboost/src/learner.cc:1095: Starting in XGBoost 1.3.0, the default evaluation metric used with the objective 'binary:logistic' was changed from 'error' to 'logloss'. Explicitly set eval_metric if you'd like to restore the old behavior.\n",
      "\u001b[2m\u001b[36m(pid=77973)\u001b[0m [07:13:38] task [xgboost.ray]:140475400615776 got new rank 3\n",
      "\u001b[2m\u001b[36m(pid=77973)\u001b[0m [07:13:38] WARNING: /Users/travis/build/dmlc/xgboost/src/learner.cc:1095: Starting in XGBoost 1.3.0, the default evaluation metric used with the objective 'binary:logistic' was changed from 'error' to 'logloss'. Explicitly set eval_metric if you'd like to restore the old behavior.\n",
      "\u001b[2m\u001b[36m(pid=77972)\u001b[0m [07:13:38] task [xgboost.ray]:140652694959536 got new rank 2\n",
      "\u001b[2m\u001b[36m(pid=77972)\u001b[0m [07:13:38] WARNING: /Users/travis/build/dmlc/xgboost/src/learner.cc:1095: Starting in XGBoost 1.3.0, the default evaluation metric used with the objective 'binary:logistic' was changed from 'error' to 'logloss'. Explicitly set eval_metric if you'd like to restore the old behavior.\n",
      "09/16/2021 07:13:40 AM INFO:@tracker All nodes finishes job\n",
      "09/16/2021 07:13:40 AM INFO:@tracker 2.367325782775879 secs between node start and job finish\n",
      "2021-09-16 07:13:41,047\tINFO main.py:1436 -- [RayXGBoost] Finished XGBoost training on training data with total N=21,478 in 4.80 seconds (2.52 pure XGBoost training time).\n",
      "2021-09-16 07:13:41,067\tINFO main.py:1476 -- [RayXGBoost] Created 4 remote actors.\n",
      "2021-09-16 07:13:42,657\tINFO main.py:1493 -- [RayXGBoost] Starting XGBoost prediction.\n"
     ]
    },
    {
     "name": "stdout",
     "output_type": "stream",
     "text": [
      "[0 0 0 ... 0 0 0]\n"
     ]
    },
    {
     "name": "stderr",
     "output_type": "stream",
     "text": [
      "2021-09-16 07:13:43,436\tINFO main.py:913 -- [RayXGBoost] Created 4 new actors (4 total actors). Waiting until actors are ready for training.\n",
      "2021-09-16 07:13:44,988\tINFO main.py:958 -- [RayXGBoost] Starting XGBoost training.\n",
      "09/16/2021 07:13:44 AM INFO:start listen on 10.0.0.233:9091\n",
      "09/16/2021 07:13:45 AM INFO:@tracker All of 4 nodes getting started\n",
      "\u001b[2m\u001b[36m(pid=78123)\u001b[0m [07:13:45] task [xgboost.ray]:140219187365344 got new rank 0\n",
      "\u001b[2m\u001b[36m(pid=78123)\u001b[0m [07:13:45] WARNING: /Users/travis/build/dmlc/xgboost/src/learner.cc:1095: Starting in XGBoost 1.3.0, the default evaluation metric used with the objective 'binary:logistic' was changed from 'error' to 'logloss'. Explicitly set eval_metric if you'd like to restore the old behavior.\n",
      "\u001b[2m\u001b[36m(pid=78125)\u001b[0m [07:13:45] task [xgboost.ray]:140324859823680 got new rank 2\n",
      "\u001b[2m\u001b[36m(pid=78125)\u001b[0m [07:13:45] WARNING: /Users/travis/build/dmlc/xgboost/src/learner.cc:1095: Starting in XGBoost 1.3.0, the default evaluation metric used with the objective 'binary:logistic' was changed from 'error' to 'logloss'. Explicitly set eval_metric if you'd like to restore the old behavior.\n",
      "\u001b[2m\u001b[36m(pid=78124)\u001b[0m [07:13:45] task [xgboost.ray]:140393495414336 got new rank 1\n",
      "\u001b[2m\u001b[36m(pid=78124)\u001b[0m [07:13:45] WARNING: /Users/travis/build/dmlc/xgboost/src/learner.cc:1095: Starting in XGBoost 1.3.0, the default evaluation metric used with the objective 'binary:logistic' was changed from 'error' to 'logloss'. Explicitly set eval_metric if you'd like to restore the old behavior.\n",
      "\u001b[2m\u001b[36m(pid=78126)\u001b[0m [07:13:45] task [xgboost.ray]:140312494896704 got new rank 3\n",
      "\u001b[2m\u001b[36m(pid=78126)\u001b[0m [07:13:45] WARNING: /Users/travis/build/dmlc/xgboost/src/learner.cc:1095: Starting in XGBoost 1.3.0, the default evaluation metric used with the objective 'binary:logistic' was changed from 'error' to 'logloss'. Explicitly set eval_metric if you'd like to restore the old behavior.\n",
      "09/16/2021 07:13:47 AM INFO:@tracker All nodes finishes job\n",
      "09/16/2021 07:13:47 AM INFO:@tracker 2.353178024291992 secs between node start and job finish\n",
      "2021-09-16 07:13:47,508\tINFO main.py:1436 -- [RayXGBoost] Finished XGBoost training on training data with total N=21,478 in 4.78 seconds (2.51 pure XGBoost training time).\n",
      "2021-09-16 07:13:47,529\tINFO main.py:1476 -- [RayXGBoost] Created 4 remote actors.\n",
      "2021-09-16 07:13:49,121\tINFO main.py:1493 -- [RayXGBoost] Starting XGBoost prediction.\n"
     ]
    },
    {
     "name": "stdout",
     "output_type": "stream",
     "text": [
      "[0 0 0 ... 0 0 0]\n",
      "6.44 s ± 124 ms per loop (mean ± std. dev. of 7 runs, 1 loop each)\n"
     ]
    }
   ],
   "source": [
    "%timeit xgboost_cls.train()"
   ]
  },
  {
   "cell_type": "markdown",
   "id": "080ce609-2def-4b27-be36-7cde30da2522",
   "metadata": {},
   "source": [
    "### Define loan requests"
   ]
  },
  {
   "cell_type": "code",
   "execution_count": 6,
   "id": "92e75800-8e23-43cc-bb69-8497591aed3b",
   "metadata": {},
   "outputs": [],
   "source": [
    "loan_requests = [\n",
    "    {\n",
    "        \"zipcode\": [76104],\n",
    "        \"person_age\": [22],\n",
    "        \"person_income\": [59000],\n",
    "        \"person_home_ownership\": [\"RENT\"],\n",
    "        \"person_emp_length\": [123.0],\n",
    "        \"loan_intent\": [\"PERSONAL\"],\n",
    "        \"loan_amnt\": [35000],\n",
    "        \"loan_int_rate\": [16.02],\n",
    "        \"dob_ssn\": [\"19530219_5179\"]\n",
    "    },\n",
    "    {\n",
    "        \"zipcode\": [69033],\n",
    "        \"person_age\": [66],\n",
    "        \"person_income\": [42000],\n",
    "        \"person_home_ownership\": [\"RENT\"],\n",
    "        \"person_emp_length\": [2.0],\n",
    "        \"loan_intent\": [\"MEDICAL\"],\n",
    "        \"loan_amnt\": [6475],\n",
    "        \"loan_int_rate\": [9.99],\n",
    "        \"dob_ssn\": [\"19960703_3449\"]\n",
    "    }\n",
    "]"
   ]
  },
  {
   "cell_type": "markdown",
   "id": "a09c022d-1366-400b-8bb6-0af806bb2d9a",
   "metadata": {},
   "source": [
    "### Predict the loan requests"
   ]
  },
  {
   "cell_type": "code",
   "execution_count": 7,
   "id": "be4e0d69-6aa1-4714-97bf-162107cc5051",
   "metadata": {},
   "outputs": [
    {
     "name": "stderr",
     "output_type": "stream",
     "text": [
      "/Users/jules/miniconda3/lib/python3.9/site-packages/xgboost_ray/sklearn.py:294: UserWarning: `ray_params` is not `None` and will override the `n_jobs` attribute.\n",
      "  warnings.warn(\"`ray_params` is not `None` and will override \"\n",
      "/Users/jules/miniconda3/lib/python3.9/site-packages/xgboost_ray/main.py:364: UserWarning: `num_actors` in `ray_params` is smaller than 2 (1). XGBoost will NOT be distributed!\n",
      "  warnings.warn(\n",
      "2021-09-16 07:13:49,530\tINFO main.py:1476 -- [RayXGBoost] Created 1 remote actors.\n",
      "2021-09-16 07:13:50,825\tINFO main.py:1493 -- [RayXGBoost] Starting XGBoost prediction.\n"
     ]
    },
    {
     "name": "stdout",
     "output_type": "stream",
     "text": [
      "Loan for 76104 code approved: status_code=1\n"
     ]
    },
    {
     "name": "stderr",
     "output_type": "stream",
     "text": [
      "/Users/jules/miniconda3/lib/python3.9/site-packages/xgboost_ray/sklearn.py:294: UserWarning: `ray_params` is not `None` and will override the `n_jobs` attribute.\n",
      "  warnings.warn(\"`ray_params` is not `None` and will override \"\n",
      "/Users/jules/miniconda3/lib/python3.9/site-packages/xgboost_ray/main.py:364: UserWarning: `num_actors` in `ray_params` is smaller than 2 (1). XGBoost will NOT be distributed!\n",
      "  warnings.warn(\n",
      "2021-09-16 07:13:51,148\tINFO main.py:1476 -- [RayXGBoost] Created 1 remote actors.\n",
      "2021-09-16 07:13:52,399\tINFO main.py:1493 -- [RayXGBoost] Starting XGBoost prediction.\n"
     ]
    },
    {
     "name": "stdout",
     "output_type": "stream",
     "text": [
      "Loan for 69033 code rejected: status_code=0\n"
     ]
    }
   ],
   "source": [
    "for loan_request in loan_requests:\n",
    "    result = round(xgboost_cls.predict(loan_request))\n",
    "    loan_status = \"approved\" if result == 1 else \"rejected\"\n",
    "    print(f\"Loan for {loan_request['zipcode'][0]} code {loan_status}: status_code={result}\")"
   ]
  }
 ],
 "metadata": {
  "kernelspec": {
   "display_name": "Python 3 (ipykernel)",
   "language": "python",
   "name": "python3"
  },
  "language_info": {
   "codemirror_mode": {
    "name": "ipython",
    "version": 3
   },
   "file_extension": ".py",
   "mimetype": "text/x-python",
   "name": "python",
   "nbconvert_exporter": "python",
   "pygments_lexer": "ipython3",
   "version": "3.9.1"
  }
 },
 "nbformat": 4,
 "nbformat_minor": 5
}
